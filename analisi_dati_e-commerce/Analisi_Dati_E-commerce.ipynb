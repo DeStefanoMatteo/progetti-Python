{
  "nbformat": 4,
  "nbformat_minor": 0,
  "metadata": {
    "colab": {
      "name": "E-commerce - Analisi Dati",
      "provenance": [],
      "collapsed_sections": [],
      "authorship_tag": "ABX9TyOsdhlMHNrtsjcYNc7ZxO1B",
      "include_colab_link": true
    },
    "kernelspec": {
      "name": "python3",
      "display_name": "Python 3"
    }
  },
  "cells": [
    {
      "cell_type": "markdown",
      "metadata": {
        "id": "view-in-github",
        "colab_type": "text"
      },
      "source": [
        "<a href=\"https://colab.research.google.com/github/DeStefanoMatteo/progetti-Python/blob/main/Analisi_Dati_E-commerce.ipynb\" target=\"_parent\"><img src=\"https://colab.research.google.com/assets/colab-badge.svg\" alt=\"Open In Colab\"/></a>"
      ]
    },
    {
      "cell_type": "markdown",
      "metadata": {
        "id": "q1LqaIvdSUkg"
      },
      "source": [
        "#**E-commerce - Analisi Dati**"
      ]
    },
    {
      "cell_type": "markdown",
      "metadata": {
        "id": "xP2LIzG6ScK8"
      },
      "source": [
        "L'obiettivo di questo notebook è analizzare il contenuto di un database di un E-commerce che vende regali e piccoli prodotti all'ingrosso, che contiene gli acquisti fatti da ~4'000 clienti lungo il periodo di un anno (dal 01-12-2010 al 09-12-2011)."
      ]
    },
    {
      "cell_type": "markdown",
      "metadata": {
        "id": "3o-4ujOeSsFG"
      },
      "source": [
        "L'analisi effettuata vuole rispondere alle domande più importanti riguardo il comportamento dei clienti..."
      ]
    },
    {
      "cell_type": "markdown",
      "metadata": {
        "id": "P1yQeg8LSy33"
      },
      "source": [
        "##**Risultati**"
      ]
    },
    {
      "cell_type": "code",
      "metadata": {
        "id": "bCk2Qhxmi5v8",
        "cellView": "form"
      },
      "source": [
        "#@title Codice per la preparazione dei dati...\n",
        "from google.colab import files\n",
        "\n",
        "uploaded = files.upload()\n",
        "\n",
        "import pandas as pd \n",
        "import numpy as np\n",
        "import matplotlib.pyplot as plt\n",
        "import datetime\n",
        "from IPython.display import display_html\n",
        "\n",
        "%matplotlib inline\n",
        "pd.set_option('max_columns', None)\n",
        "\n",
        "df = pd.read_csv('ecommerce_data.csv', encoding= 'ISO-8859-1')\n",
        "\n",
        "df.rename(index=str, columns={'InvoiceNo': 'invoice_num',\n",
        "                              'StockCode' : 'stock_code',\n",
        "                              'Description' : 'description',\n",
        "                              'Quantity' : 'quantity',\n",
        "                              'InvoiceDate' : 'invoice_date',\n",
        "                              'UnitPrice' : 'unit_price',\n",
        "                              'CustomerID' : 'customer_id',\n",
        "                              'Country' : 'country'}, inplace=True)\n",
        "\n",
        "# gives some infos on columns types and numer of null values\n",
        "tab_info=pd.DataFrame(df.dtypes).T.rename(index={0:'column type'})\n",
        "tab_info=tab_info.append(pd.DataFrame(df.isnull().sum()).T.rename(index={0:'null values'}))\n",
        "tab_info=tab_info.append(pd.DataFrame(round(df.isnull().sum()/df.shape[0]*100, 2)).T.rename(index={0:'null values (%)'}))\n",
        "\n",
        "# df without missing values\n",
        "df.dropna(inplace = True)\n",
        "\n",
        "# Drop duplicated rows\n",
        "df.drop_duplicates(inplace = True)\n",
        "\n",
        "# change the invoice_date format - String to Timestamp format\n",
        "df['invoice_date'] = pd.to_datetime(df.invoice_date, format='%m/%d/%Y %H:%M')\n",
        "\n",
        "# change description - UPPER case to LOWER case\n",
        "df['description'] = df.description.str.lower()\n",
        "\n",
        "# change columns type - String to Int type\n",
        "df['customer_id'] = df['customer_id'].astype('int64')\n",
        "\n",
        "codes = [el for el in df[\"stock_code\"].unique().tolist() if (len(el) < 5) or (len(el) > 7)]\n",
        "codes.remove(\"D\")\n",
        "df = df[~df[\"stock_code\"].isin(codes)]\n",
        "\n",
        "df_delete = df[df[\"quantity\"] < 0].copy()\n",
        "df_delete[\"quantity\"] = -df_delete[\"quantity\"]\n",
        "df_delete = pd.merge(df, df_delete, how='inner', left_on=[\"stock_code\", \"customer_id\", \"quantity\"], right_on=[\"stock_code\", \"customer_id\", \"quantity\"])\n",
        "invoice_delete = df_delete[[\"invoice_num_x\", \"stock_code\", \"customer_id\", \"quantity\"]]\n",
        "invoice_delete.rename(index=str, columns={'invoice_num_x': 'invoice_num'}, inplace=True)\n",
        "\n",
        "# Create Dataframe containing negative quantities\n",
        "invoice_delete_C = df_delete[[\"invoice_num_y\", \"stock_code\", \"customer_id\", \"quantity\"]]\n",
        "invoice_delete_C.rename(index=str, columns={'invoice_num_y': 'invoice_num'}, inplace=True)\n",
        "invoice_delete_C['quantity'] = -invoice_delete_C['quantity']\n",
        "\n",
        "# Update Dataframe with invoice to delete and positive quantities\n",
        "df = df.merge(invoice_delete, on=[\"invoice_num\", \"stock_code\", \"customer_id\", \"quantity\"], how='outer', indicator='merge')\n",
        "df = df[df['merge']=='left_only']\n",
        "df.drop('merge', axis=1, inplace=True)\n",
        "\n",
        "# Update Dataframe with invoice to delete and negative quantities\n",
        "df = df.merge(invoice_delete_C, on=[\"invoice_num\", \"stock_code\", \"customer_id\", \"quantity\"], how='outer', indicator='merge')\n",
        "df = df[df['merge']=='left_only']\n",
        "df.drop('merge', axis=1, inplace=True)\n",
        "\n",
        "# Delete negative quantities\n",
        "df = df[(df[\"stock_code\"] != \"D\") & (df[\"quantity\"] > 0)]\n",
        "df = df[df['unit_price'] != 0]\n",
        "\n",
        "df_price = df[(df['unit_price']<20) & (df['stock_code'] != 'D')].groupby(['stock_code', 'unit_price'])['quantity'].sum()\n",
        "prices = [p[1] for p in df_price.index.values]\n",
        "\n",
        "df_country = df.groupby('country')['invoice_num'].count().sort_values()\n",
        "\n",
        "df['amount_spent'] = df['quantity'] * df['unit_price']\n",
        "\n",
        "df.insert(loc=2, column='date', value=df['invoice_date'].dt.date)\n",
        "df.insert(loc=3, column='month', value=df['invoice_date'].dt.month)\n",
        "df.insert(loc=4, column='weekday', value=df['invoice_date'].dt.dayofweek)\n",
        "df.insert(loc=5, column='hour', value=df['invoice_date'].dt.hour)\n",
        "\n",
        "country_sorted = sorted(df['country'].unique().tolist())\n",
        "time_zone_diff = [9, 1, 2, 1, -4, -5, 1, 2, 1, 1, 0, 0, 2, 1, 1, 2, -1, 2, 1, 8, 2, 2, 1, 1, 1, 1, 0, 1, 2, 7, 1, 1, 1, -7, 3, 0, 0]\n",
        "df_timezone = pd.DataFrame()\n",
        "df_timezone['country'] = country_sorted\n",
        "df_timezone['time_diff'] = time_zone_diff\n",
        "\n",
        "df = df.merge(df_timezone, how='left', on='country')\n",
        "df['local_hour'] = df['hour'] + df['time_diff']\n",
        "\n",
        "def local_weekday(row):\n",
        "  if row['local_hour'] > 23:\n",
        "    return row['weekday'] + 1\n",
        "  elif row['local_hour'] < 0:\n",
        "    return row['weekday'] - 1\n",
        "  else:\n",
        "    return row['weekday']\n",
        "\n",
        "df['local_weekday'] = df.apply (lambda row: local_weekday(row), axis=1)\n",
        "df['local_hour'] = df['local_hour'] % 24\n",
        "\n",
        "# rearrange all the columns for easy reference\n",
        "df = df[['invoice_num','invoice_date','stock_code','description','quantity','unit_price','amount_spent',\n",
        "         'customer_id','country','time_diff','date','month','weekday','hour','local_weekday','local_hour']]\n",
        "\n",
        "product_sales = df.groupby(['stock_code'], as_index=False)['invoice_num'].count().sort_values(by='invoice_num', ascending=False)\n",
        "product_sales = product_sales.merge(df.drop_duplicates('stock_code'), how='left', on=\"stock_code\")[[\"stock_code\", \"description\", \"invoice_num_x\"]]\n",
        "product_sales.rename(columns={'invoice_num_x':'orders'}, inplace=True)\n",
        "\n",
        "product_sales_plt = product_sales[:20].sort_values(by='orders')\n",
        "\n",
        "df_purchase = df.groupby(by=['date', 'invoice_num'], as_index=False).count()\n",
        "df_purchase = df_purchase.groupby(by=['date'], as_index=False)['invoice_num'].count()\n",
        "df_purchase.rename(columns={'invoice_num':'purchase'}, inplace=True)\n",
        "\n",
        "max_date = df_purchase[df_purchase['purchase'] == df_purchase['purchase'].max()].iloc[0]['date']\n",
        "max_value = df_purchase['purchase'].max()\n",
        "min_date = df_purchase[df_purchase['purchase'] == df_purchase['purchase'].min()].iloc[0]['date']\n",
        "min_value = df_purchase['purchase'].min()\n",
        "mean_value = int(df_purchase['purchase'].mean())\n",
        "\n",
        "df_revenue = df.groupby(by=['date'], as_index=False)['amount_spent'].sum()\n",
        "\n",
        "df_customer = df.groupby(by=['customer_id', 'invoice_date'], as_index=False)['invoice_num'].count()\n",
        "df_customer.rename(columns={'invoice_num':'orders'}, inplace=True)\n",
        "df_customer = df_customer.groupby(by=['customer_id'], as_index=False)['orders'].count()\n",
        "df_customer_spent = df.groupby(by=['customer_id', 'country'], as_index=False)['amount_spent'].sum()\n",
        "df_customer = df_customer.merge(df_customer_spent, on=['customer_id'])\n",
        "df_customer['purchase_avg'] = round(df_customer['amount_spent'] / df_customer['orders'], 2)\n",
        "\n",
        "df_customer_plt = df_customer.sort_values(by='orders', ascending=False).reset_index(drop=True)\n",
        "df_customer_plt = df_customer_plt[:20].sort_values(by='orders')\n",
        "\n",
        "ltv_data = []\n",
        "for ord_ in range(41):\n",
        "  ltv = round(df_customer[df_customer['orders'] > ord_]['amount_spent'].mean(), 2)\n",
        "  ltv_data.append((ord_, ltv))\n",
        "ltv_data = pd.DataFrame(ltv_data, columns=['order_num', 'ltv'])\n",
        "\n",
        "df_month = df.groupby(['month', 'invoice_num'], as_index=False)['quantity'].count()\n",
        "df_month.rename(columns={'quantity':'orders'}, inplace=True)\n",
        "df_month = df_month.groupby(['month'], as_index=False)['orders'].sum()\n",
        "\n",
        "df_hour = df.groupby(['local_hour', 'invoice_num'], as_index=False)['quantity'].count()\n",
        "df_hour.rename(columns={'quantity':'orders'}, inplace=True)\n",
        "df_hour = df_hour.groupby(['local_hour'], as_index=False)['orders'].sum()\n",
        "\n",
        "df_hour_plt = df_hour[(df_hour['local_hour'] > 6) & (df_hour['local_hour'] < 22)]"
      ],
      "execution_count": null,
      "outputs": []
    },
    {
      "cell_type": "markdown",
      "metadata": {
        "id": "ADrQSrQxXyvx"
      },
      "source": [
        "### **Dati E-commerce**"
      ]
    },
    {
      "cell_type": "markdown",
      "metadata": {
        "id": "4xwsW_OzS1_p"
      },
      "source": [
        "I dati disponibili sono i seguenti:<br><br>\n",
        "**invoice_num** - ID dell'ordine.<br>\n",
        "**stock_code** - ID del prodotto.<br>\n",
        "**description** - descrizione del prodotto.<br>\n",
        "**quantity** - quantità del prodotto acquistata.<br>\n",
        "**invoice_date** - data e ora dell'acquisto.<br>\n",
        "**unit_price** - prezzo del singolo prodotto.<br>\n",
        "**customer_id** - ID del cliente.<br>\n",
        "**country** - nazione del cliente.<br>"
      ]
    },
    {
      "cell_type": "markdown",
      "metadata": {
        "id": "Wfoe954UU86h"
      },
      "source": [
        "Per prima cosa abbiamo effettuato una pulizia dei dati. Abbiamo eliminato le osservazioni con valori nulli, le osservazioni duplicate, gli acquisti cancellati e particolari operazioni non utili alla nostra analisi.<br>\n",
        "Utilizzando i dati disponibili abbiamo creato nuove variabili come l'orario d'acquisto aggiustato per il fuso orario del cliente. Il risultato è stato un dataset dalla seguente dimensione."
      ]
    },
    {
      "cell_type": "code",
      "metadata": {
        "id": "fPmjps-nXEG6",
        "cellView": "form",
        "outputId": "66a33ed9-9754-43ab-de29-de740597c826",
        "colab": {
          "base_uri": "https://localhost:8080/",
          "height": 50
        }
      },
      "source": [
        "#@title Dimensioni dataset\n",
        "\n",
        "print(f'Righe: {df.shape[0]}')\n",
        "print(f'Colonne: {df.shape[1]}')"
      ],
      "execution_count": null,
      "outputs": [
        {
          "output_type": "stream",
          "text": [
            "Righe: 385929\n",
            "Colonne: 16\n"
          ],
          "name": "stdout"
        }
      ]
    },
    {
      "cell_type": "markdown",
      "metadata": {
        "id": "h-_t7wK8XnoP"
      },
      "source": [
        "### **Analisi**"
      ]
    },
    {
      "cell_type": "markdown",
      "metadata": {
        "id": "N_f0xD6te-1E"
      },
      "source": [
        "### **Clienti**"
      ]
    },
    {
      "cell_type": "code",
      "metadata": {
        "id": "w8Yu3HK05F-o",
        "cellView": "form",
        "outputId": "bd2c24c8-8355-4131-f2b9-3413377aac93",
        "colab": {
          "base_uri": "https://localhost:8080/",
          "height": 34
        }
      },
      "source": [
        "#@title Numero di clienti\n",
        "\n",
        "customer_tot = len(df_customer['customer_id'].unique())\n",
        "print(f\"Il dataset contiene gli acquisti di {customer_tot} clienti.\")"
      ],
      "execution_count": null,
      "outputs": [
        {
          "output_type": "stream",
          "text": [
            "Il dataset contiene gli acquisti di 4321 clienti.\n"
          ],
          "name": "stdout"
        }
      ]
    },
    {
      "cell_type": "markdown",
      "metadata": {
        "id": "dwvOGw2mXDGT"
      },
      "source": [
        "La loro nazionalità è principalmente Inglese, essendo l'e-commerce studiato situato in Gran Bretagna.<br>"
      ]
    },
    {
      "cell_type": "code",
      "metadata": {
        "id": "YeBuo12oYVx8",
        "cellView": "form",
        "outputId": "c970d084-8ede-45e0-884a-840a4be511ae",
        "colab": {
          "base_uri": "https://localhost:8080/",
          "height": 343
        }
      },
      "source": [
        "#@title Nazionalità dei clienti\n",
        "\n",
        "df_customer.groupby('country', as_index=False)['customer_id'].count().sort_values(by='customer_id', ascending=False).rename(columns={'customer_id':'customers'}).reset_index(drop=True).head(10)"
      ],
      "execution_count": null,
      "outputs": [
        {
          "output_type": "execute_result",
          "data": {
            "text/html": [
              "<div>\n",
              "<style scoped>\n",
              "    .dataframe tbody tr th:only-of-type {\n",
              "        vertical-align: middle;\n",
              "    }\n",
              "\n",
              "    .dataframe tbody tr th {\n",
              "        vertical-align: top;\n",
              "    }\n",
              "\n",
              "    .dataframe thead th {\n",
              "        text-align: right;\n",
              "    }\n",
              "</style>\n",
              "<table border=\"1\" class=\"dataframe\">\n",
              "  <thead>\n",
              "    <tr style=\"text-align: right;\">\n",
              "      <th></th>\n",
              "      <th>country</th>\n",
              "      <th>customers</th>\n",
              "    </tr>\n",
              "  </thead>\n",
              "  <tbody>\n",
              "    <tr>\n",
              "      <th>0</th>\n",
              "      <td>United Kingdom</td>\n",
              "      <td>3906</td>\n",
              "    </tr>\n",
              "    <tr>\n",
              "      <th>1</th>\n",
              "      <td>Germany</td>\n",
              "      <td>94</td>\n",
              "    </tr>\n",
              "    <tr>\n",
              "      <th>2</th>\n",
              "      <td>France</td>\n",
              "      <td>87</td>\n",
              "    </tr>\n",
              "    <tr>\n",
              "      <th>3</th>\n",
              "      <td>Spain</td>\n",
              "      <td>29</td>\n",
              "    </tr>\n",
              "    <tr>\n",
              "      <th>4</th>\n",
              "      <td>Belgium</td>\n",
              "      <td>25</td>\n",
              "    </tr>\n",
              "    <tr>\n",
              "      <th>5</th>\n",
              "      <td>Switzerland</td>\n",
              "      <td>21</td>\n",
              "    </tr>\n",
              "    <tr>\n",
              "      <th>6</th>\n",
              "      <td>Portugal</td>\n",
              "      <td>19</td>\n",
              "    </tr>\n",
              "    <tr>\n",
              "      <th>7</th>\n",
              "      <td>Italy</td>\n",
              "      <td>14</td>\n",
              "    </tr>\n",
              "    <tr>\n",
              "      <th>8</th>\n",
              "      <td>Finland</td>\n",
              "      <td>12</td>\n",
              "    </tr>\n",
              "    <tr>\n",
              "      <th>9</th>\n",
              "      <td>Austria</td>\n",
              "      <td>11</td>\n",
              "    </tr>\n",
              "  </tbody>\n",
              "</table>\n",
              "</div>"
            ],
            "text/plain": [
              "          country  customers\n",
              "0  United Kingdom       3906\n",
              "1         Germany         94\n",
              "2          France         87\n",
              "3           Spain         29\n",
              "4         Belgium         25\n",
              "5     Switzerland         21\n",
              "6        Portugal         19\n",
              "7           Italy         14\n",
              "8         Finland         12\n",
              "9         Austria         11"
            ]
          },
          "metadata": {
            "tags": []
          },
          "execution_count": 132
        }
      ]
    },
    {
      "cell_type": "markdown",
      "metadata": {
        "id": "n3mQ2lmjYZuv"
      },
      "source": [
        "Se non consideriamo i clienti inglesi, possiamo vedere come la clientela sia globale."
      ]
    },
    {
      "cell_type": "code",
      "metadata": {
        "id": "FSXmuz8PYlw1",
        "cellView": "form",
        "outputId": "402dc328-8ae8-4c10-ab02-d155d4a97e60",
        "colab": {
          "base_uri": "https://localhost:8080/",
          "height": 657
        }
      },
      "source": [
        "#@title Grafico nazionalità\n",
        "\n",
        "# del df_country['United Kingdom']\n",
        "\n",
        "plt.subplots(figsize=(8,9))\n",
        "df_country.plot(kind='barh', fontsize=12, color='dodgerblue')\n",
        "# plt.hist(df['country'], bins=59)\n",
        "plt.xlabel('')\n",
        "plt.ylabel('')\n",
        "plt.title('Nazionalità dei clienti', fontsize=18, pad=20)\n",
        "plt.tight_layout()\n",
        "plt.show()"
      ],
      "execution_count": null,
      "outputs": [
        {
          "output_type": "display_data",
          "data": {
            "image/png": "[encoded data removed]",
            "text/plain": [
              "<Figure size 576x648 with 1 Axes>"
            ]
          },
          "metadata": {
            "tags": [],
            "needs_background": "light"
          }
        }
      ]
    },
    {
      "cell_type": "markdown",
      "metadata": {
        "id": "RL5L8XduY0sm"
      },
      "source": [
        "Per individuare i clienti di maggior valore per l'e-commerce, creiamo una lista dei clienti che hanno effettuato più ordini e una lista di quelli che hanno speso di più, associati alla loro nazionalità."
      ]
    },
    {
      "cell_type": "code",
      "metadata": {
        "id": "_rHdO7UP7DPM",
        "cellView": "form",
        "outputId": "fb35f5e0-5e60-468b-a030-43c9c8f5fb44",
        "colab": {
          "base_uri": "https://localhost:8080/",
          "height": 155
        }
      },
      "source": [
        "#@title Clienti più attivi\n",
        "\n",
        "df1 = df_customer_plt[['customer_id', 'orders', 'country']].sort_values(by='orders', ascending=False).reset_index(drop=True).head()\n",
        "df2 = df_customer_plt[['customer_id', 'amount_spent', 'country']].sort_values(by='amount_spent', ascending=False).reset_index(drop=True).head()\n",
        "df2['amount_spent'] = df2['amount_spent'].astype('int')\n",
        "\n",
        "df1_styler = df1.style.set_table_attributes(\"style='display:inline'\").set_caption('Clienti con più ordini')\n",
        "df2_styler = df2.style.set_table_attributes(\"style='display:inline'\").set_caption('Clienti con spesa maggiore')\n",
        "\n",
        "display_html(df1_styler._repr_html_() + \"\\xa0\\xa0\\xa0\\xa0\\xa0\\xa0\\xa0\\xa0\" + df2_styler._repr_html_(), raw=True)"
      ],
      "execution_count": null,
      "outputs": [
        {
          "output_type": "display_data",
          "data": {
            "text/html": [
              "<style  type=\"text/css\" >\n",
              "</style><table id=\"T_6a5e6b5c_f8b7_11ea_8316_0242ac1c0002\" style='display:inline'><caption>Clienti con più ordini</caption><thead>    <tr>        <th class=\"blank level0\" ></th>        <th class=\"col_heading level0 col0\" >customer_id</th>        <th class=\"col_heading level0 col1\" >orders</th>        <th class=\"col_heading level0 col2\" >country</th>    </tr></thead><tbody>\n",
              "                <tr>\n",
              "                        <th id=\"T_6a5e6b5c_f8b7_11ea_8316_0242ac1c0002level0_row0\" class=\"row_heading level0 row0\" >0</th>\n",
              "                        <td id=\"T_6a5e6b5c_f8b7_11ea_8316_0242ac1c0002row0_col0\" class=\"data row0 col0\" >12748</td>\n",
              "                        <td id=\"T_6a5e6b5c_f8b7_11ea_8316_0242ac1c0002row0_col1\" class=\"data row0 col1\" >203</td>\n",
              "                        <td id=\"T_6a5e6b5c_f8b7_11ea_8316_0242ac1c0002row0_col2\" class=\"data row0 col2\" >United Kingdom</td>\n",
              "            </tr>\n",
              "            <tr>\n",
              "                        <th id=\"T_6a5e6b5c_f8b7_11ea_8316_0242ac1c0002level0_row1\" class=\"row_heading level0 row1\" >1</th>\n",
              "                        <td id=\"T_6a5e6b5c_f8b7_11ea_8316_0242ac1c0002row1_col0\" class=\"data row1 col0\" >14911</td>\n",
              "                        <td id=\"T_6a5e6b5c_f8b7_11ea_8316_0242ac1c0002row1_col1\" class=\"data row1 col1\" >192</td>\n",
              "                        <td id=\"T_6a5e6b5c_f8b7_11ea_8316_0242ac1c0002row1_col2\" class=\"data row1 col2\" >EIRE</td>\n",
              "            </tr>\n",
              "            <tr>\n",
              "                        <th id=\"T_6a5e6b5c_f8b7_11ea_8316_0242ac1c0002level0_row2\" class=\"row_heading level0 row2\" >2</th>\n",
              "                        <td id=\"T_6a5e6b5c_f8b7_11ea_8316_0242ac1c0002row2_col0\" class=\"data row2 col0\" >17841</td>\n",
              "                        <td id=\"T_6a5e6b5c_f8b7_11ea_8316_0242ac1c0002row2_col1\" class=\"data row2 col1\" >124</td>\n",
              "                        <td id=\"T_6a5e6b5c_f8b7_11ea_8316_0242ac1c0002row2_col2\" class=\"data row2 col2\" >United Kingdom</td>\n",
              "            </tr>\n",
              "            <tr>\n",
              "                        <th id=\"T_6a5e6b5c_f8b7_11ea_8316_0242ac1c0002level0_row3\" class=\"row_heading level0 row3\" >3</th>\n",
              "                        <td id=\"T_6a5e6b5c_f8b7_11ea_8316_0242ac1c0002row3_col0\" class=\"data row3 col0\" >14606</td>\n",
              "                        <td id=\"T_6a5e6b5c_f8b7_11ea_8316_0242ac1c0002row3_col1\" class=\"data row3 col1\" >91</td>\n",
              "                        <td id=\"T_6a5e6b5c_f8b7_11ea_8316_0242ac1c0002row3_col2\" class=\"data row3 col2\" >United Kingdom</td>\n",
              "            </tr>\n",
              "            <tr>\n",
              "                        <th id=\"T_6a5e6b5c_f8b7_11ea_8316_0242ac1c0002level0_row4\" class=\"row_heading level0 row4\" >4</th>\n",
              "                        <td id=\"T_6a5e6b5c_f8b7_11ea_8316_0242ac1c0002row4_col0\" class=\"data row4 col0\" >15311</td>\n",
              "                        <td id=\"T_6a5e6b5c_f8b7_11ea_8316_0242ac1c0002row4_col1\" class=\"data row4 col1\" >90</td>\n",
              "                        <td id=\"T_6a5e6b5c_f8b7_11ea_8316_0242ac1c0002row4_col2\" class=\"data row4 col2\" >United Kingdom</td>\n",
              "            </tr>\n",
              "    </tbody></table>        <style  type=\"text/css\" >\n",
              "</style><table id=\"T_6a5ee550_f8b7_11ea_8316_0242ac1c0002\" style='display:inline'><caption>Clienti con spesa maggiore</caption><thead>    <tr>        <th class=\"blank level0\" ></th>        <th class=\"col_heading level0 col0\" >customer_id</th>        <th class=\"col_heading level0 col1\" >amount_spent</th>        <th class=\"col_heading level0 col2\" >country</th>    </tr></thead><tbody>\n",
              "                <tr>\n",
              "                        <th id=\"T_6a5ee550_f8b7_11ea_8316_0242ac1c0002level0_row0\" class=\"row_heading level0 row0\" >0</th>\n",
              "                        <td id=\"T_6a5ee550_f8b7_11ea_8316_0242ac1c0002row0_col0\" class=\"data row0 col0\" >14646</td>\n",
              "                        <td id=\"T_6a5ee550_f8b7_11ea_8316_0242ac1c0002row0_col1\" class=\"data row0 col1\" >277460</td>\n",
              "                        <td id=\"T_6a5ee550_f8b7_11ea_8316_0242ac1c0002row0_col2\" class=\"data row0 col2\" >Netherlands</td>\n",
              "            </tr>\n",
              "            <tr>\n",
              "                        <th id=\"T_6a5ee550_f8b7_11ea_8316_0242ac1c0002level0_row1\" class=\"row_heading level0 row1\" >1</th>\n",
              "                        <td id=\"T_6a5ee550_f8b7_11ea_8316_0242ac1c0002row1_col0\" class=\"data row1 col0\" >18102</td>\n",
              "                        <td id=\"T_6a5ee550_f8b7_11ea_8316_0242ac1c0002row1_col1\" class=\"data row1 col1\" >259657</td>\n",
              "                        <td id=\"T_6a5ee550_f8b7_11ea_8316_0242ac1c0002row1_col2\" class=\"data row1 col2\" >United Kingdom</td>\n",
              "            </tr>\n",
              "            <tr>\n",
              "                        <th id=\"T_6a5ee550_f8b7_11ea_8316_0242ac1c0002level0_row2\" class=\"row_heading level0 row2\" >2</th>\n",
              "                        <td id=\"T_6a5ee550_f8b7_11ea_8316_0242ac1c0002row2_col0\" class=\"data row2 col0\" >17450</td>\n",
              "                        <td id=\"T_6a5ee550_f8b7_11ea_8316_0242ac1c0002row2_col1\" class=\"data row2 col1\" >189607</td>\n",
              "                        <td id=\"T_6a5ee550_f8b7_11ea_8316_0242ac1c0002row2_col2\" class=\"data row2 col2\" >United Kingdom</td>\n",
              "            </tr>\n",
              "            <tr>\n",
              "                        <th id=\"T_6a5ee550_f8b7_11ea_8316_0242ac1c0002level0_row3\" class=\"row_heading level0 row3\" >3</th>\n",
              "                        <td id=\"T_6a5ee550_f8b7_11ea_8316_0242ac1c0002row3_col0\" class=\"data row3 col0\" >14911</td>\n",
              "                        <td id=\"T_6a5ee550_f8b7_11ea_8316_0242ac1c0002row3_col1\" class=\"data row3 col1\" >121172</td>\n",
              "                        <td id=\"T_6a5ee550_f8b7_11ea_8316_0242ac1c0002row3_col2\" class=\"data row3 col2\" >EIRE</td>\n",
              "            </tr>\n",
              "            <tr>\n",
              "                        <th id=\"T_6a5ee550_f8b7_11ea_8316_0242ac1c0002level0_row4\" class=\"row_heading level0 row4\" >4</th>\n",
              "                        <td id=\"T_6a5ee550_f8b7_11ea_8316_0242ac1c0002row4_col0\" class=\"data row4 col0\" >14156</td>\n",
              "                        <td id=\"T_6a5ee550_f8b7_11ea_8316_0242ac1c0002row4_col1\" class=\"data row4 col1\" >111478</td>\n",
              "                        <td id=\"T_6a5ee550_f8b7_11ea_8316_0242ac1c0002row4_col2\" class=\"data row4 col2\" >EIRE</td>\n",
              "            </tr>\n",
              "    </tbody></table>"
            ]
          },
          "metadata": {
            "tags": []
          }
        }
      ]
    },
    {
      "cell_type": "markdown",
      "metadata": {
        "id": "2AqJHBU7b3P6"
      },
      "source": [
        "Visualizziamo la quantità di ordini effettuata dai 20 clienti più attivi."
      ]
    },
    {
      "cell_type": "code",
      "metadata": {
        "id": "XPtSHJbKZLbu",
        "cellView": "form",
        "outputId": "e5b7f580-0546-4da7-c3f4-632dc21e8be9",
        "colab": {
          "base_uri": "https://localhost:8080/",
          "height": 441
        }
      },
      "source": [
        "#@title Ordini per cliente\n",
        "\n",
        "plt.subplots(figsize=(8,6))\n",
        "plt.barh(df_customer_plt['customer_id'].astype('str'), df_customer_plt['orders'], color='g')\n",
        "plt.xlabel('Ordini')\n",
        "plt.ylabel('ID Cliente')\n",
        "plt.title('Numero di ordini per cliente', fontsize=18, pad=20)\n",
        "plt.tight_layout()\n",
        "plt.show()"
      ],
      "execution_count": null,
      "outputs": [
        {
          "output_type": "display_data",
          "data": {
            "image/png": "[encoded data removed]",
            "text/plain": [
              "<Figure size 576x432 with 1 Axes>"
            ]
          },
          "metadata": {
            "tags": [],
            "needs_background": "light"
          }
        }
      ]
    },
    {
      "cell_type": "code",
      "metadata": {
        "id": "WwIpn0UBcMWH",
        "cellView": "form",
        "outputId": "a361a731-54b3-4b17-e394-2cfb91b1fc86",
        "colab": {
          "base_uri": "https://localhost:8080/",
          "height": 34
        }
      },
      "source": [
        "#@title Statistiche clienti\n",
        "\n",
        "orders_tot = df_customer['orders'].sum()\n",
        "orders_top20 = df_customer_plt['orders'].sum()\n",
        "\n",
        "print(f\"I 20 clienti con più ordini - il {round(20/customer_tot * 100, 2)}% della clientela - ha effettuato {round(orders_top20/orders_tot*100, 2)}% degli acquisti totali.\")"
      ],
      "execution_count": null,
      "outputs": [
        {
          "output_type": "stream",
          "text": [
            "I 20 clienti con più ordini - il 0.46% della clientela - ha effettuato 8.57% degli acquisti totali.\n"
          ],
          "name": "stdout"
        }
      ]
    },
    {
      "cell_type": "markdown",
      "metadata": {
        "id": "C4MptHeSeIT6"
      },
      "source": [
        "Il numero di ordini effettuati e il fatturato per cliente segue la legge di Pareto."
      ]
    },
    {
      "cell_type": "markdown",
      "metadata": {
        "id": "bx_DiLObe5oE"
      },
      "source": [
        "### **Prodotti**"
      ]
    },
    {
      "cell_type": "markdown",
      "metadata": {
        "id": "G8O3H_sbZWuq"
      },
      "source": [
        "Un e-commerce deve tenere monitorati quali sono i prodotti più acquistati sulla sua piattaforma. Individuiamo i cinque prodotti più acquistati con la loro descrizione."
      ]
    },
    {
      "cell_type": "code",
      "metadata": {
        "id": "dgrR-7qiaHuz",
        "cellView": "form",
        "outputId": "8bcc351a-f837-4a0e-b102-8c67acdcb728",
        "colab": {
          "base_uri": "https://localhost:8080/",
          "height": 195
        }
      },
      "source": [
        "#@title Prodotti più acquistati\n",
        "\n",
        "product_sales[['description', 'orders']].head()"
      ],
      "execution_count": null,
      "outputs": [
        {
          "output_type": "execute_result",
          "data": {
            "text/html": [
              "<div>\n",
              "<style scoped>\n",
              "    .dataframe tbody tr th:only-of-type {\n",
              "        vertical-align: middle;\n",
              "    }\n",
              "\n",
              "    .dataframe tbody tr th {\n",
              "        vertical-align: top;\n",
              "    }\n",
              "\n",
              "    .dataframe thead th {\n",
              "        text-align: right;\n",
              "    }\n",
              "</style>\n",
              "<table border=\"1\" class=\"dataframe\">\n",
              "  <thead>\n",
              "    <tr style=\"text-align: right;\">\n",
              "      <th></th>\n",
              "      <th>description</th>\n",
              "      <th>orders</th>\n",
              "    </tr>\n",
              "  </thead>\n",
              "  <tbody>\n",
              "    <tr>\n",
              "      <th>0</th>\n",
              "      <td>white hanging heart t-light holder</td>\n",
              "      <td>1993</td>\n",
              "    </tr>\n",
              "    <tr>\n",
              "      <th>1</th>\n",
              "      <td>regency cakestand 3 tier</td>\n",
              "      <td>1622</td>\n",
              "    </tr>\n",
              "    <tr>\n",
              "      <th>2</th>\n",
              "      <td>jumbo bag red retrospot</td>\n",
              "      <td>1574</td>\n",
              "    </tr>\n",
              "    <tr>\n",
              "      <th>3</th>\n",
              "      <td>assorted colour bird ornament</td>\n",
              "      <td>1389</td>\n",
              "    </tr>\n",
              "    <tr>\n",
              "      <th>4</th>\n",
              "      <td>party bunting</td>\n",
              "      <td>1366</td>\n",
              "    </tr>\n",
              "  </tbody>\n",
              "</table>\n",
              "</div>"
            ],
            "text/plain": [
              "                          description  orders\n",
              "0  white hanging heart t-light holder    1993\n",
              "1            regency cakestand 3 tier    1622\n",
              "2             jumbo bag red retrospot    1574\n",
              "3       assorted colour bird ornament    1389\n",
              "4                       party bunting    1366"
            ]
          },
          "metadata": {
            "tags": []
          },
          "execution_count": 102
        }
      ]
    },
    {
      "cell_type": "markdown",
      "metadata": {
        "id": "yLvmemRyaJhJ"
      },
      "source": [
        "Visualizziamo il numero di acquisti dei 20 prodotti più venduti."
      ]
    },
    {
      "cell_type": "code",
      "metadata": {
        "id": "5iHmycyOaShY",
        "cellView": "form",
        "outputId": "f9a6b6d5-8091-4a54-9c6c-fa0f05b7d046",
        "colab": {
          "base_uri": "https://localhost:8080/",
          "height": 585
        }
      },
      "source": [
        "#@title Prodotti più acquistati\n",
        "\n",
        "plt.subplots(figsize=(8,8))\n",
        "plt.barh(product_sales_plt['description'], product_sales_plt['orders'], color=\"orange\")\n",
        "plt.xlabel('Unità vendute')\n",
        "plt.title('Prodotti più venduti', fontsize=18, pad=20)\n",
        "plt.tight_layout()\n",
        "plt.show()"
      ],
      "execution_count": null,
      "outputs": [
        {
          "output_type": "display_data",
          "data": {
            "image/png": "[encoded data removed]",
            "text/plain": [
              "<Figure size 576x576 with 1 Axes>"
            ]
          },
          "metadata": {
            "tags": [],
            "needs_background": "light"
          }
        }
      ]
    },
    {
      "cell_type": "markdown",
      "metadata": {
        "id": "56Pi4oEkaWxm"
      },
      "source": [
        "È importante anche monitorare quali prodotti non vendono."
      ]
    },
    {
      "cell_type": "code",
      "metadata": {
        "id": "jj2Dpnexl7v8",
        "cellView": "form",
        "outputId": "f45b5e7a-4de5-40aa-d3e1-3d5c86e7df6b",
        "colab": {
          "base_uri": "https://localhost:8080/",
          "height": 262
        }
      },
      "source": [
        "#@title Prodotti di scarso successo\n",
        "\n",
        "product_onesale = product_sales[product_sales['orders'] == 1].shape[0]\n",
        "print(f\"Su un totale di {product_sales.shape[0]} prodotti venduti, {product_onesale} hanno venduto un unico pezzo.\\n\\n Per esempio:\\n\")\n",
        "product_sales[product_sales['orders'] == 1][['description', 'orders']].reset_index(drop=True).head()"
      ],
      "execution_count": null,
      "outputs": [
        {
          "output_type": "stream",
          "text": [
            "Su un totale di 3644 prodotti venduti, 161 hanno venduto un unico pezzo.\n",
            "\n",
            " Per esempio:\n",
            "\n"
          ],
          "name": "stdout"
        },
        {
          "output_type": "execute_result",
          "data": {
            "text/html": [
              "<div>\n",
              "<style scoped>\n",
              "    .dataframe tbody tr th:only-of-type {\n",
              "        vertical-align: middle;\n",
              "    }\n",
              "\n",
              "    .dataframe tbody tr th {\n",
              "        vertical-align: top;\n",
              "    }\n",
              "\n",
              "    .dataframe thead th {\n",
              "        text-align: right;\n",
              "    }\n",
              "</style>\n",
              "<table border=\"1\" class=\"dataframe\">\n",
              "  <thead>\n",
              "    <tr style=\"text-align: right;\">\n",
              "      <th></th>\n",
              "      <th>description</th>\n",
              "      <th>orders</th>\n",
              "    </tr>\n",
              "  </thead>\n",
              "  <tbody>\n",
              "    <tr>\n",
              "      <th>0</th>\n",
              "      <td>m/colour pom-pom curtain</td>\n",
              "      <td>1</td>\n",
              "    </tr>\n",
              "    <tr>\n",
              "      <th>1</th>\n",
              "      <td>purple/blue ceramic candle holder</td>\n",
              "      <td>1</td>\n",
              "    </tr>\n",
              "    <tr>\n",
              "      <th>2</th>\n",
              "      <td>diamante necklace</td>\n",
              "      <td>1</td>\n",
              "    </tr>\n",
              "    <tr>\n",
              "      <th>3</th>\n",
              "      <td>hen house w chick in nest</td>\n",
              "      <td>1</td>\n",
              "    </tr>\n",
              "    <tr>\n",
              "      <th>4</th>\n",
              "      <td>black drop earrings w long beads</td>\n",
              "      <td>1</td>\n",
              "    </tr>\n",
              "  </tbody>\n",
              "</table>\n",
              "</div>"
            ],
            "text/plain": [
              "                         description  orders\n",
              "0           m/colour pom-pom curtain       1\n",
              "1  purple/blue ceramic candle holder       1\n",
              "2                  diamante necklace       1\n",
              "3          hen house w chick in nest       1\n",
              "4   black drop earrings w long beads       1"
            ]
          },
          "metadata": {
            "tags": []
          },
          "execution_count": 165
        }
      ]
    },
    {
      "cell_type": "markdown",
      "metadata": {
        "id": "1C5OeaSafG6a"
      },
      "source": [
        "### **Acquisti**"
      ]
    },
    {
      "cell_type": "markdown",
      "metadata": {
        "id": "AMKV4aWha5US"
      },
      "source": [
        "Visualizziamo il numero di acquisti durante l'anno per individuare eventuali trend."
      ]
    },
    {
      "cell_type": "code",
      "metadata": {
        "id": "MZi3dXQja_Zt",
        "cellView": "form",
        "outputId": "0825538c-99cf-419e-9108-08ec625f4235",
        "colab": {
          "base_uri": "https://localhost:8080/",
          "height": 297
        }
      },
      "source": [
        "#@title Acquisti durante l'anno\n",
        "\n",
        "plt.subplots(figsize=(12,4))\n",
        "plt.plot(df_purchase['date'], df_purchase['purchase'], color=\"dodgerblue\")\n",
        "plt.ylabel('Acquisti')\n",
        "plt.title(\"Acquisti durante l'anno\", fontsize=18, pad=20)\n",
        "plt.tight_layout()\n",
        "plt.show()"
      ],
      "execution_count": null,
      "outputs": [
        {
          "output_type": "display_data",
          "data": {
            "image/png": "[encoded data removed]",
            "text/plain": [
              "<Figure size 864x288 with 1 Axes>"
            ]
          },
          "metadata": {
            "tags": [],
            "needs_background": "light"
          }
        }
      ]
    },
    {
      "cell_type": "code",
      "metadata": {
        "id": "0O-t1jkuA5vL",
        "cellView": "form",
        "outputId": "44cba9c3-feb8-4913-9285-691ab046a8fa",
        "colab": {
          "base_uri": "https://localhost:8080/",
          "height": 67
        }
      },
      "source": [
        "#@title Statistiche sugli acquisti\n",
        "\n",
        "max_date = df_purchase[df_purchase['purchase'] == df_purchase['purchase'].max()].iloc[0]['date']\n",
        "max_value = df_purchase['purchase'].max()\n",
        "min_date = df_purchase[df_purchase['purchase'] == df_purchase['purchase'].min()].iloc[0]['date']\n",
        "min_value = df_purchase['purchase'].min()\n",
        "mean_value = int(df_purchase['purchase'].mean())\n",
        "\n",
        "print(f'Giornata migliore: {max_date.strftime(\"%d/%m/%Y\")} con {max_value} acquisti')\n",
        "print(f'Giornata peggiore: {min_date.strftime(\"%d/%m/%Y\")} con {min_value} acquisti')\n",
        "print(f'Acquisti giornalieri in media: {mean_value}')"
      ],
      "execution_count": null,
      "outputs": [
        {
          "output_type": "stream",
          "text": [
            "Giornata migliore: 02/12/2010 con 136 acquisti\n",
            "Giornata peggiore: 06/02/2011 con 11 acquisti\n",
            "Acquisti giornalieri in media: 59\n"
          ],
          "name": "stdout"
        }
      ]
    },
    {
      "cell_type": "markdown",
      "metadata": {
        "id": "XCV9KPwFnypo"
      },
      "source": [
        "Il numero di ordini aumenta intorno alle feste natalizie, come ci si può aspettare per un e-commerce che si occupa di prodotti regalo."
      ]
    },
    {
      "cell_type": "markdown",
      "metadata": {
        "id": "uo9vFYIBfKx7"
      },
      "source": [
        "### **Fatturato**"
      ]
    },
    {
      "cell_type": "markdown",
      "metadata": {
        "id": "dzV2InrgbLXH"
      },
      "source": [
        "Visualizziamo il fatturato nel corso dell'anno."
      ]
    },
    {
      "cell_type": "code",
      "metadata": {
        "id": "wYXVF3BhbSJM",
        "cellView": "form",
        "outputId": "4ab90428-1495-4a7e-d2f4-95b265189c83",
        "colab": {
          "base_uri": "https://localhost:8080/",
          "height": 297
        }
      },
      "source": [
        "#@title Fatturato durante l'anno\n",
        "\n",
        "plt.subplots(figsize=(12,4))\n",
        "plt.plot(df_revenue['date'], df_revenue['amount_spent'], color=\"green\")\n",
        "plt.ylabel('Fatturato')\n",
        "plt.title(\"Fatturato durante l'anno\", fontsize=18, pad=20)\n",
        "plt.tight_layout()\n",
        "plt.show()"
      ],
      "execution_count": null,
      "outputs": [
        {
          "output_type": "display_data",
          "data": {
            "image/png": "[encoded data removed]",
            "text/plain": [
              "<Figure size 864x288 with 1 Axes>"
            ]
          },
          "metadata": {
            "tags": [],
            "needs_background": "light"
          }
        }
      ]
    },
    {
      "cell_type": "code",
      "metadata": {
        "id": "cj7t4nKQCMlp",
        "cellView": "form",
        "outputId": "f5486bfc-dd2c-472f-df3c-f3600fb0693b",
        "colab": {
          "base_uri": "https://localhost:8080/",
          "height": 34
        }
      },
      "source": [
        "#@title Fatturato medio\n",
        "\n",
        "mean_value = int(df_revenue['amount_spent'].mean())\n",
        "print(f'Fatturato giornaliero in media: £{mean_value}')"
      ],
      "execution_count": null,
      "outputs": [
        {
          "output_type": "stream",
          "text": [
            "Fatturato giornaliero in media: £26883\n"
          ],
          "name": "stdout"
        }
      ]
    },
    {
      "cell_type": "markdown",
      "metadata": {
        "id": "t6yMpFXUoAuZ"
      },
      "source": [
        "Il fatturato cresce verso la fine dell'anno ma è più stabile rispetto a quanto il numero degli ordini possa fare pensare."
      ]
    },
    {
      "cell_type": "markdown",
      "metadata": {
        "id": "Jav75TZdfPAl"
      },
      "source": [
        "### **Carrello**"
      ]
    },
    {
      "cell_type": "markdown",
      "metadata": {
        "id": "StoD1KAkb58n"
      },
      "source": [
        "Il carrello medio è un dato che un e-commerce deve sempre mantenere controllato. La sua distribuzione è la seguente."
      ]
    },
    {
      "cell_type": "code",
      "metadata": {
        "id": "keqY-x2Gb_uD",
        "cellView": "form",
        "outputId": "0ea605dc-3a4c-433b-98c4-af6ce677a95e",
        "colab": {
          "base_uri": "https://localhost:8080/",
          "height": 297
        }
      },
      "source": [
        "#@title Distribuzione carrello medio\n",
        "\n",
        "plt.subplots(figsize=(12,4))\n",
        "plt.hist(df_customer[df_customer['purchase_avg'] < 2000]['purchase_avg'], \n",
        "         bins=59, color='orange', edgecolor='white')\n",
        "plt.xlabel('Carrello medio')\n",
        "plt.title('Distribuzione carrello medio', fontsize=18, pad=20)\n",
        "plt.tight_layout()\n",
        "plt.show()"
      ],
      "execution_count": null,
      "outputs": [
        {
          "output_type": "display_data",
          "data": {
            "image/png": "[encoded data removed]",
            "text/plain": [
              "<Figure size 864x288 with 1 Axes>"
            ]
          },
          "metadata": {
            "tags": [],
            "needs_background": "light"
          }
        }
      ]
    },
    {
      "cell_type": "code",
      "metadata": {
        "id": "HbnFpx3VC_-d",
        "cellView": "form",
        "outputId": "cabf7555-8808-4d37-89e2-5fab6c53668a",
        "colab": {
          "base_uri": "https://localhost:8080/",
          "height": 34
        }
      },
      "source": [
        "#@title Carrello medio\n",
        "\n",
        "cart_mean = (df_customer['amount_spent'].sum() / df_customer['orders'].sum()).round(2)\n",
        "print(f'Il carrello medio è di £{cart_mean}')"
      ],
      "execution_count": null,
      "outputs": [
        {
          "output_type": "stream",
          "text": [
            "Il carrello medio è di £452.66\n"
          ],
          "name": "stdout"
        }
      ]
    },
    {
      "cell_type": "markdown",
      "metadata": {
        "id": "sjdm8-UucBmb"
      },
      "source": [
        "Possiamo vedere come ci siano due mode intorno ai £150 e i £300 di acquisti."
      ]
    },
    {
      "cell_type": "markdown",
      "metadata": {
        "id": "FsABsxmRcMcG"
      },
      "source": [
        "Per quanto riguarda il comportamento dei clienti possiamo visualizzare la distribuzione dei loro orari d'acquisto, corretto per il fuso orario locale."
      ]
    },
    {
      "cell_type": "code",
      "metadata": {
        "id": "fe5706Z-cbnq",
        "cellView": "form",
        "outputId": "e52f8f64-054b-4d2f-aa5d-18a33034d613",
        "colab": {
          "base_uri": "https://localhost:8080/",
          "height": 297
        }
      },
      "source": [
        "#@title Ordini per orario\n",
        "\n",
        "fig, ax = plt.subplots(figsize=(12,4))\n",
        "plt.bar(df_hour_plt['local_hour'], df_hour_plt['orders'], color='dodgerblue')\n",
        "plt.xlabel('Ora locale')\n",
        "ax.set_xticks(range(6,22))\n",
        "ax.set_xticklabels(range(6,22), rotation='horizontal')\n",
        "plt.ylabel('Quantità di ordini')\n",
        "plt.title('Ordini per orario', fontsize=18, pad=20)\n",
        "plt.tight_layout()\n",
        "plt.show()"
      ],
      "execution_count": null,
      "outputs": [
        {
          "output_type": "display_data",
          "data": {
            "image/png": "[encoded data removed]",
            "text/plain": [
              "<Figure size 864x288 with 1 Axes>"
            ]
          },
          "metadata": {
            "tags": [],
            "needs_background": "light"
          }
        }
      ]
    },
    {
      "cell_type": "markdown",
      "metadata": {
        "id": "3RK9-CM-cgac"
      },
      "source": [
        "La maggior parte degli acquisti vengono effettuati tra le 11 e le 15.<br>\n",
        "Questa informazione può essere utile per scegliere l'orario in cui contattare i propri clienti e promuovere nuove offerte."
      ]
    },
    {
      "cell_type": "markdown",
      "metadata": {
        "id": "ajifVMj_fTcq"
      },
      "source": [
        "### **LifeTime Value - LTV**"
      ]
    },
    {
      "cell_type": "code",
      "metadata": {
        "id": "26DEuxYREII3",
        "cellView": "form",
        "outputId": "07ccbb58-d050-4639-ea49-d4cadca9197e",
        "colab": {
          "base_uri": "https://localhost:8080/",
          "height": 34
        }
      },
      "source": [
        "#@title LTV medio\n",
        "\n",
        "ltv_mean = round(df_customer['amount_spent'].mean(), 2)\n",
        "print(f'Il LTV medio è di £{ltv_mean}')"
      ],
      "execution_count": null,
      "outputs": [
        {
          "output_type": "stream",
          "text": [
            "Il LTV medio è di £1894.51\n"
          ],
          "name": "stdout"
        }
      ]
    },
    {
      "cell_type": "markdown",
      "metadata": {
        "id": "BAtpFYVSc54O"
      },
      "source": [
        "Visualizziamo come cresce il LTV all'aumentare del numero di ordini dei clienti."
      ]
    },
    {
      "cell_type": "code",
      "metadata": {
        "id": "oUqdMCl_dOV_",
        "cellView": "form",
        "outputId": "ebead0f0-aa47-4499-ebcc-5fcc39ae00fb",
        "colab": {
          "base_uri": "https://localhost:8080/",
          "height": 297
        }
      },
      "source": [
        "#@title LTV per numero di ordini\n",
        "\n",
        "plt.subplots(figsize=(12,4))\n",
        "plt.plot(ltv_data['order_num'], ltv_data['ltv'], color='green')\n",
        "plt.xlabel('Ordini')\n",
        "plt.ylabel('LTV')\n",
        "plt.title('LTV per numero di ordini', fontsize=18, pad=20)\n",
        "plt.tight_layout()\n",
        "plt.show()"
      ],
      "execution_count": null,
      "outputs": [
        {
          "output_type": "display_data",
          "data": {
            "image/png": "[encoded data removed]",
            "text/plain": [
              "<Figure size 864x288 with 1 Axes>"
            ]
          },
          "metadata": {
            "tags": [],
            "needs_background": "light"
          }
        }
      ]
    },
    {
      "cell_type": "markdown",
      "metadata": {
        "id": "xqi5XxfKdP3Q"
      },
      "source": [
        "La curva indica il crescere del valore dei clienti all'aumentare del loro numero di acquisti.<br>\n",
        "L'inclinazione della curva è massima tra i 30 e i 40 acquisti. Questo indica, per esempio, come sia più profittevole il prossimo acquisto di qualcuno che ha già effettuato 30 acquisti rispetto a chi ne ha effettuati 10."
      ]
    },
    {
      "cell_type": "markdown",
      "metadata": {
        "id": "w6TJU0tuQXxD"
      },
      "source": [
        "Per finire, analizziamo il LTV dei clienti in base alla loro nazionalità per individuare le nazioni su cui potersi focalizzare.<br>\n",
        "Consideriamo soltanto le nazioni con più di 10 clienti."
      ]
    },
    {
      "cell_type": "code",
      "metadata": {
        "id": "FHWXisXDQp-o",
        "cellView": "form",
        "outputId": "93f6bae3-bdff-4f25-e4c8-e080ba3d5248",
        "colab": {
          "base_uri": "https://localhost:8080/",
          "height": 343
        }
      },
      "source": [
        "#@title LTV per nazione\n",
        "\n",
        "df1 = df_customer.groupby('country', as_index=False)['amount_spent'].sum().sort_values(by='amount_spent', ascending=False)\n",
        "df1['amount_spent'] = round(df1['amount_spent'], 2)\n",
        "\n",
        "df2 = df_customer.groupby('country', as_index=False)['customer_id'].count().sort_values(by='customer_id')\n",
        "df2.rename(columns={'customer_id':'clients'}, inplace=True)\n",
        "\n",
        "df1 = df1.merge(df2, on='country')\n",
        "df1 = df1[df1['clients'] > 10]\n",
        "df1['ltv'] = round(df1['amount_spent'] / df1['clients'], 2)\n",
        "df1 = df1[['country', 'ltv', 'amount_spent', 'clients']]\n",
        "\n",
        "df1.sort_values(by='ltv', ascending=False).reset_index(drop=True)"
      ],
      "execution_count": null,
      "outputs": [
        {
          "output_type": "execute_result",
          "data": {
            "text/html": [
              "<div>\n",
              "<style scoped>\n",
              "    .dataframe tbody tr th:only-of-type {\n",
              "        vertical-align: middle;\n",
              "    }\n",
              "\n",
              "    .dataframe tbody tr th {\n",
              "        vertical-align: top;\n",
              "    }\n",
              "\n",
              "    .dataframe thead th {\n",
              "        text-align: right;\n",
              "    }\n",
              "</style>\n",
              "<table border=\"1\" class=\"dataframe\">\n",
              "  <thead>\n",
              "    <tr style=\"text-align: right;\">\n",
              "      <th></th>\n",
              "      <th>country</th>\n",
              "      <th>ltv</th>\n",
              "      <th>amount_spent</th>\n",
              "      <th>clients</th>\n",
              "    </tr>\n",
              "  </thead>\n",
              "  <tbody>\n",
              "    <tr>\n",
              "      <th>0</th>\n",
              "      <td>Switzerland</td>\n",
              "      <td>2469.49</td>\n",
              "      <td>51859.30</td>\n",
              "      <td>21</td>\n",
              "    </tr>\n",
              "    <tr>\n",
              "      <th>1</th>\n",
              "      <td>Germany</td>\n",
              "      <td>2160.53</td>\n",
              "      <td>203089.88</td>\n",
              "      <td>94</td>\n",
              "    </tr>\n",
              "    <tr>\n",
              "      <th>2</th>\n",
              "      <td>France</td>\n",
              "      <td>2078.68</td>\n",
              "      <td>180845.39</td>\n",
              "      <td>87</td>\n",
              "    </tr>\n",
              "    <tr>\n",
              "      <th>3</th>\n",
              "      <td>Spain</td>\n",
              "      <td>1790.66</td>\n",
              "      <td>51929.22</td>\n",
              "      <td>29</td>\n",
              "    </tr>\n",
              "    <tr>\n",
              "      <th>4</th>\n",
              "      <td>United Kingdom</td>\n",
              "      <td>1726.45</td>\n",
              "      <td>6743498.05</td>\n",
              "      <td>3906</td>\n",
              "    </tr>\n",
              "    <tr>\n",
              "      <th>5</th>\n",
              "      <td>Finland</td>\n",
              "      <td>1528.74</td>\n",
              "      <td>18344.88</td>\n",
              "      <td>12</td>\n",
              "    </tr>\n",
              "    <tr>\n",
              "      <th>6</th>\n",
              "      <td>Belgium</td>\n",
              "      <td>1472.55</td>\n",
              "      <td>36813.69</td>\n",
              "      <td>25</td>\n",
              "    </tr>\n",
              "    <tr>\n",
              "      <th>7</th>\n",
              "      <td>Portugal</td>\n",
              "      <td>1396.00</td>\n",
              "      <td>26524.05</td>\n",
              "      <td>19</td>\n",
              "    </tr>\n",
              "    <tr>\n",
              "      <th>8</th>\n",
              "      <td>Italy</td>\n",
              "      <td>1104.08</td>\n",
              "      <td>15457.19</td>\n",
              "      <td>14</td>\n",
              "    </tr>\n",
              "    <tr>\n",
              "      <th>9</th>\n",
              "      <td>Austria</td>\n",
              "      <td>794.79</td>\n",
              "      <td>8742.68</td>\n",
              "      <td>11</td>\n",
              "    </tr>\n",
              "  </tbody>\n",
              "</table>\n",
              "</div>"
            ],
            "text/plain": [
              "          country      ltv  amount_spent  clients\n",
              "0     Switzerland  2469.49      51859.30       21\n",
              "1         Germany  2160.53     203089.88       94\n",
              "2          France  2078.68     180845.39       87\n",
              "3           Spain  1790.66      51929.22       29\n",
              "4  United Kingdom  1726.45    6743498.05     3906\n",
              "5         Finland  1528.74      18344.88       12\n",
              "6         Belgium  1472.55      36813.69       25\n",
              "7        Portugal  1396.00      26524.05       19\n",
              "8           Italy  1104.08      15457.19       14\n",
              "9         Austria   794.79       8742.68       11"
            ]
          },
          "metadata": {
            "tags": []
          },
          "execution_count": 90
        }
      ]
    },
    {
      "cell_type": "markdown",
      "metadata": {
        "id": "zRksnwk6Q6Vd"
      },
      "source": [
        "Possiamo notare come i clienti provenienti dalla Svizzera e Germania valgano di più rispetto a quelli provenienti dall'Italia e dall'Austria.<br><br><br><br><br>"
      ]
    },
    {
      "cell_type": "markdown",
      "metadata": {
        "id": "sNLnuKoVXWSH"
      },
      "source": [
        "## **Analisi Dati con codice - Python**"
      ]
    },
    {
      "cell_type": "markdown",
      "metadata": {
        "id": "f9XwHXXDBBGl"
      },
      "source": [
        "Importiamo i dati dal file \"ecommerce_data.csv\" ottenuto al seguente link:<br>\n",
        "https://www.kaggle.com/carrie1/ecommerce-data"
      ]
    },
    {
      "cell_type": "code",
      "metadata": {
        "id": "ybC_5P_8_KTB",
        "outputId": "0d755e56-5ff0-480b-dae6-0d291e89cfdf",
        "colab": {
          "resources": {
            "http://localhost:8080/nbextensions/google.colab/files.js": {
              "data": "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",
              "ok": true,
              "headers": [
                [
                  "content-type",
                  "application/javascript"
                ]
              ],
              "status": 200,
              "status_text": ""
            }
          },
          "base_uri": "https://localhost:8080/",
          "height": 73
        }
      },
      "source": [
        "from google.colab import files\n",
        "\n",
        "uploaded = files.upload()"
      ],
      "execution_count": null,
      "outputs": [
        {
          "output_type": "display_data",
          "data": {
            "text/html": [
              "\n",
              "     <input type=\"file\" id=\"files-9cb6b19c-162b-4fb7-bc70-8aa9647b354f\" name=\"files[]\" multiple disabled\n",
              "        style=\"border:none\" />\n",
              "     <output id=\"result-9cb6b19c-162b-4fb7-bc70-8aa9647b354f\">\n",
              "      Upload widget is only available when the cell has been executed in the\n",
              "      current browser session. Please rerun this cell to enable.\n",
              "      </output>\n",
              "      <script src=\"/nbextensions/google.colab/files.js\"></script> "
            ],
            "text/plain": [
              "<IPython.core.display.HTML object>"
            ]
          },
          "metadata": {
            "tags": []
          }
        },
        {
          "output_type": "stream",
          "text": [
            "Saving ecommerce_data.csv to ecommerce_data.csv\n"
          ],
          "name": "stdout"
        }
      ]
    },
    {
      "cell_type": "markdown",
      "metadata": {
        "id": "GQOlIz8hBQ3X"
      },
      "source": [
        "Importiamo i moduli necessari per la nostra analisi."
      ]
    },
    {
      "cell_type": "code",
      "metadata": {
        "id": "A0JiHFM0Ox_r",
        "outputId": "473e0efc-15e6-482e-812d-8824b353cb43",
        "colab": {
          "base_uri": "https://localhost:8080/",
          "height": 70
        }
      },
      "source": [
        "import pandas as pd \n",
        "import numpy as np\n",
        "import matplotlib.pyplot as plt\n",
        "import datetime\n",
        "\n",
        "%matplotlib inline\n",
        "pd.set_option('max_columns', None)"
      ],
      "execution_count": null,
      "outputs": [
        {
          "output_type": "stream",
          "text": [
            "/usr/local/lib/python3.6/dist-packages/statsmodels/tools/_testing.py:19: FutureWarning: pandas.util.testing is deprecated. Use the functions in the public API at pandas.testing instead.\n",
            "  import pandas.util.testing as tm\n"
          ],
          "name": "stderr"
        }
      ]
    },
    {
      "cell_type": "markdown",
      "metadata": {
        "id": "vR8VreWBx3PW"
      },
      "source": [
        "### **Caricare i dati**"
      ]
    },
    {
      "cell_type": "markdown",
      "metadata": {
        "id": "QdNCkV1XBgro"
      },
      "source": [
        "Carichiamo i dati in formato DataFrame."
      ]
    },
    {
      "cell_type": "code",
      "metadata": {
        "id": "UHhEuDgYMUDX"
      },
      "source": [
        "df = pd.read_csv('ecommerce_data.csv', encoding= 'ISO-8859-1')"
      ],
      "execution_count": null,
      "outputs": []
    },
    {
      "cell_type": "markdown",
      "metadata": {
        "id": "ydXDN1N5BkK_"
      },
      "source": [
        "Dimensione del DataFrame:"
      ]
    },
    {
      "cell_type": "code",
      "metadata": {
        "id": "Zmk9Jsz7p7BN",
        "outputId": "90a235ee-5224-4fa1-9649-807dca375a59",
        "colab": {
          "base_uri": "https://localhost:8080/",
          "height": 34
        }
      },
      "source": [
        "df.shape"
      ],
      "execution_count": null,
      "outputs": [
        {
          "output_type": "execute_result",
          "data": {
            "text/plain": [
              "(541909, 8)"
            ]
          },
          "metadata": {
            "tags": []
          },
          "execution_count": 6
        }
      ]
    },
    {
      "cell_type": "markdown",
      "metadata": {
        "id": "ImekEsJRBqyh"
      },
      "source": [
        "Rinominiamo le variabili."
      ]
    },
    {
      "cell_type": "code",
      "metadata": {
        "id": "uQQir92YNxN6"
      },
      "source": [
        "df.rename(index=str, columns={'InvoiceNo': 'invoice_num',\n",
        "                              'StockCode' : 'stock_code',\n",
        "                              'Description' : 'description',\n",
        "                              'Quantity' : 'quantity',\n",
        "                              'InvoiceDate' : 'invoice_date',\n",
        "                              'UnitPrice' : 'unit_price',\n",
        "                              'CustomerID' : 'customer_id',\n",
        "                              'Country' : 'country'}, inplace=True)"
      ],
      "execution_count": null,
      "outputs": []
    },
    {
      "cell_type": "code",
      "metadata": {
        "id": "LG7Hra4PNzd3",
        "outputId": "46e0f606-8db1-445d-b7f7-fbe04f73f743",
        "colab": {
          "base_uri": "https://localhost:8080/",
          "height": 195
        }
      },
      "source": [
        "df.head()"
      ],
      "execution_count": null,
      "outputs": [
        {
          "output_type": "execute_result",
          "data": {
            "text/html": [
              "<div>\n",
              "<style scoped>\n",
              "    .dataframe tbody tr th:only-of-type {\n",
              "        vertical-align: middle;\n",
              "    }\n",
              "\n",
              "    .dataframe tbody tr th {\n",
              "        vertical-align: top;\n",
              "    }\n",
              "\n",
              "    .dataframe thead th {\n",
              "        text-align: right;\n",
              "    }\n",
              "</style>\n",
              "<table border=\"1\" class=\"dataframe\">\n",
              "  <thead>\n",
              "    <tr style=\"text-align: right;\">\n",
              "      <th></th>\n",
              "      <th>invoice_num</th>\n",
              "      <th>stock_code</th>\n",
              "      <th>description</th>\n",
              "      <th>quantity</th>\n",
              "      <th>invoice_date</th>\n",
              "      <th>unit_price</th>\n",
              "      <th>customer_id</th>\n",
              "      <th>country</th>\n",
              "    </tr>\n",
              "  </thead>\n",
              "  <tbody>\n",
              "    <tr>\n",
              "      <th>0</th>\n",
              "      <td>536365</td>\n",
              "      <td>85123A</td>\n",
              "      <td>WHITE HANGING HEART T-LIGHT HOLDER</td>\n",
              "      <td>6</td>\n",
              "      <td>12/1/2010 8:26</td>\n",
              "      <td>2.55</td>\n",
              "      <td>17850.0</td>\n",
              "      <td>United Kingdom</td>\n",
              "    </tr>\n",
              "    <tr>\n",
              "      <th>1</th>\n",
              "      <td>536365</td>\n",
              "      <td>71053</td>\n",
              "      <td>WHITE METAL LANTERN</td>\n",
              "      <td>6</td>\n",
              "      <td>12/1/2010 8:26</td>\n",
              "      <td>3.39</td>\n",
              "      <td>17850.0</td>\n",
              "      <td>United Kingdom</td>\n",
              "    </tr>\n",
              "    <tr>\n",
              "      <th>2</th>\n",
              "      <td>536365</td>\n",
              "      <td>84406B</td>\n",
              "      <td>CREAM CUPID HEARTS COAT HANGER</td>\n",
              "      <td>8</td>\n",
              "      <td>12/1/2010 8:26</td>\n",
              "      <td>2.75</td>\n",
              "      <td>17850.0</td>\n",
              "      <td>United Kingdom</td>\n",
              "    </tr>\n",
              "    <tr>\n",
              "      <th>3</th>\n",
              "      <td>536365</td>\n",
              "      <td>84029G</td>\n",
              "      <td>KNITTED UNION FLAG HOT WATER BOTTLE</td>\n",
              "      <td>6</td>\n",
              "      <td>12/1/2010 8:26</td>\n",
              "      <td>3.39</td>\n",
              "      <td>17850.0</td>\n",
              "      <td>United Kingdom</td>\n",
              "    </tr>\n",
              "    <tr>\n",
              "      <th>4</th>\n",
              "      <td>536365</td>\n",
              "      <td>84029E</td>\n",
              "      <td>RED WOOLLY HOTTIE WHITE HEART.</td>\n",
              "      <td>6</td>\n",
              "      <td>12/1/2010 8:26</td>\n",
              "      <td>3.39</td>\n",
              "      <td>17850.0</td>\n",
              "      <td>United Kingdom</td>\n",
              "    </tr>\n",
              "  </tbody>\n",
              "</table>\n",
              "</div>"
            ],
            "text/plain": [
              "  invoice_num stock_code                          description  quantity  \\\n",
              "0      536365     85123A   WHITE HANGING HEART T-LIGHT HOLDER         6   \n",
              "1      536365      71053                  WHITE METAL LANTERN         6   \n",
              "2      536365     84406B       CREAM CUPID HEARTS COAT HANGER         8   \n",
              "3      536365     84029G  KNITTED UNION FLAG HOT WATER BOTTLE         6   \n",
              "4      536365     84029E       RED WOOLLY HOTTIE WHITE HEART.         6   \n",
              "\n",
              "     invoice_date  unit_price  customer_id         country  \n",
              "0  12/1/2010 8:26        2.55      17850.0  United Kingdom  \n",
              "1  12/1/2010 8:26        3.39      17850.0  United Kingdom  \n",
              "2  12/1/2010 8:26        2.75      17850.0  United Kingdom  \n",
              "3  12/1/2010 8:26        3.39      17850.0  United Kingdom  \n",
              "4  12/1/2010 8:26        3.39      17850.0  United Kingdom  "
            ]
          },
          "metadata": {
            "tags": []
          },
          "execution_count": 8
        }
      ]
    },
    {
      "cell_type": "markdown",
      "metadata": {
        "id": "6r_AAELEN8Pk"
      },
      "source": [
        "### **Pulizia dei dati**"
      ]
    },
    {
      "cell_type": "markdown",
      "metadata": {
        "id": "6lJs069xCKKS"
      },
      "source": [
        "Verifichiamo il numero di osservazioni nulle per ciascuna variabile."
      ]
    },
    {
      "cell_type": "code",
      "metadata": {
        "id": "MV6s04udqIvu",
        "outputId": "7ff3827f-b199-47c5-ea7b-0f95a5f3369b",
        "colab": {
          "base_uri": "https://localhost:8080/",
          "height": 136
        }
      },
      "source": [
        "tab_info=pd.DataFrame(df.dtypes).T.rename(index={0:'column type'})\n",
        "tab_info=tab_info.append(pd.DataFrame(df.isnull().sum()).T.rename(index={0:'null values'}))\n",
        "tab_info=tab_info.append(pd.DataFrame(round(df.isnull().sum()/df.shape[0]*100, 2)).T.rename(index={0:'null values (%)'}))\n",
        "display(tab_info)"
      ],
      "execution_count": null,
      "outputs": [
        {
          "output_type": "display_data",
          "data": {
            "text/html": [
              "<div>\n",
              "<style scoped>\n",
              "    .dataframe tbody tr th:only-of-type {\n",
              "        vertical-align: middle;\n",
              "    }\n",
              "\n",
              "    .dataframe tbody tr th {\n",
              "        vertical-align: top;\n",
              "    }\n",
              "\n",
              "    .dataframe thead th {\n",
              "        text-align: right;\n",
              "    }\n",
              "</style>\n",
              "<table border=\"1\" class=\"dataframe\">\n",
              "  <thead>\n",
              "    <tr style=\"text-align: right;\">\n",
              "      <th></th>\n",
              "      <th>invoice_num</th>\n",
              "      <th>stock_code</th>\n",
              "      <th>description</th>\n",
              "      <th>quantity</th>\n",
              "      <th>invoice_date</th>\n",
              "      <th>unit_price</th>\n",
              "      <th>customer_id</th>\n",
              "      <th>country</th>\n",
              "    </tr>\n",
              "  </thead>\n",
              "  <tbody>\n",
              "    <tr>\n",
              "      <th>column type</th>\n",
              "      <td>object</td>\n",
              "      <td>object</td>\n",
              "      <td>object</td>\n",
              "      <td>int64</td>\n",
              "      <td>object</td>\n",
              "      <td>float64</td>\n",
              "      <td>float64</td>\n",
              "      <td>object</td>\n",
              "    </tr>\n",
              "    <tr>\n",
              "      <th>null values</th>\n",
              "      <td>0</td>\n",
              "      <td>0</td>\n",
              "      <td>1454</td>\n",
              "      <td>0</td>\n",
              "      <td>0</td>\n",
              "      <td>0</td>\n",
              "      <td>135080</td>\n",
              "      <td>0</td>\n",
              "    </tr>\n",
              "    <tr>\n",
              "      <th>null values (%)</th>\n",
              "      <td>0</td>\n",
              "      <td>0</td>\n",
              "      <td>0.27</td>\n",
              "      <td>0</td>\n",
              "      <td>0</td>\n",
              "      <td>0</td>\n",
              "      <td>24.93</td>\n",
              "      <td>0</td>\n",
              "    </tr>\n",
              "  </tbody>\n",
              "</table>\n",
              "</div>"
            ],
            "text/plain": [
              "                invoice_num stock_code description quantity invoice_date  \\\n",
              "column type          object     object      object    int64       object   \n",
              "null values               0          0        1454        0            0   \n",
              "null values (%)           0          0        0.27        0            0   \n",
              "\n",
              "                unit_price customer_id country  \n",
              "column type        float64     float64  object  \n",
              "null values              0      135080       0  \n",
              "null values (%)          0       24.93       0  "
            ]
          },
          "metadata": {
            "tags": []
          }
        }
      ]
    },
    {
      "cell_type": "markdown",
      "metadata": {
        "id": "boZm7FGzCS-N"
      },
      "source": [
        "Controlliamo le variabili con valori nulli."
      ]
    },
    {
      "cell_type": "code",
      "metadata": {
        "id": "bPicFHTaOI2r",
        "outputId": "9c9ddc47-7911-44b8-fdaa-1316b2b02deb",
        "colab": {
          "base_uri": "https://localhost:8080/",
          "height": 195
        }
      },
      "source": [
        "df[df.isnull().any(axis=1)].head()"
      ],
      "execution_count": null,
      "outputs": [
        {
          "output_type": "execute_result",
          "data": {
            "text/html": [
              "<div>\n",
              "<style scoped>\n",
              "    .dataframe tbody tr th:only-of-type {\n",
              "        vertical-align: middle;\n",
              "    }\n",
              "\n",
              "    .dataframe tbody tr th {\n",
              "        vertical-align: top;\n",
              "    }\n",
              "\n",
              "    .dataframe thead th {\n",
              "        text-align: right;\n",
              "    }\n",
              "</style>\n",
              "<table border=\"1\" class=\"dataframe\">\n",
              "  <thead>\n",
              "    <tr style=\"text-align: right;\">\n",
              "      <th></th>\n",
              "      <th>invoice_num</th>\n",
              "      <th>stock_code</th>\n",
              "      <th>description</th>\n",
              "      <th>quantity</th>\n",
              "      <th>invoice_date</th>\n",
              "      <th>unit_price</th>\n",
              "      <th>customer_id</th>\n",
              "      <th>country</th>\n",
              "    </tr>\n",
              "  </thead>\n",
              "  <tbody>\n",
              "    <tr>\n",
              "      <th>622</th>\n",
              "      <td>536414</td>\n",
              "      <td>22139</td>\n",
              "      <td>NaN</td>\n",
              "      <td>56</td>\n",
              "      <td>12/1/2010 11:52</td>\n",
              "      <td>0.00</td>\n",
              "      <td>NaN</td>\n",
              "      <td>United Kingdom</td>\n",
              "    </tr>\n",
              "    <tr>\n",
              "      <th>1443</th>\n",
              "      <td>536544</td>\n",
              "      <td>21773</td>\n",
              "      <td>DECORATIVE ROSE BATHROOM BOTTLE</td>\n",
              "      <td>1</td>\n",
              "      <td>12/1/2010 14:32</td>\n",
              "      <td>2.51</td>\n",
              "      <td>NaN</td>\n",
              "      <td>United Kingdom</td>\n",
              "    </tr>\n",
              "    <tr>\n",
              "      <th>1444</th>\n",
              "      <td>536544</td>\n",
              "      <td>21774</td>\n",
              "      <td>DECORATIVE CATS BATHROOM BOTTLE</td>\n",
              "      <td>2</td>\n",
              "      <td>12/1/2010 14:32</td>\n",
              "      <td>2.51</td>\n",
              "      <td>NaN</td>\n",
              "      <td>United Kingdom</td>\n",
              "    </tr>\n",
              "    <tr>\n",
              "      <th>1445</th>\n",
              "      <td>536544</td>\n",
              "      <td>21786</td>\n",
              "      <td>POLKADOT RAIN HAT</td>\n",
              "      <td>4</td>\n",
              "      <td>12/1/2010 14:32</td>\n",
              "      <td>0.85</td>\n",
              "      <td>NaN</td>\n",
              "      <td>United Kingdom</td>\n",
              "    </tr>\n",
              "    <tr>\n",
              "      <th>1446</th>\n",
              "      <td>536544</td>\n",
              "      <td>21787</td>\n",
              "      <td>RAIN PONCHO RETROSPOT</td>\n",
              "      <td>2</td>\n",
              "      <td>12/1/2010 14:32</td>\n",
              "      <td>1.66</td>\n",
              "      <td>NaN</td>\n",
              "      <td>United Kingdom</td>\n",
              "    </tr>\n",
              "  </tbody>\n",
              "</table>\n",
              "</div>"
            ],
            "text/plain": [
              "     invoice_num stock_code                      description  quantity  \\\n",
              "622       536414      22139                              NaN        56   \n",
              "1443      536544      21773  DECORATIVE ROSE BATHROOM BOTTLE         1   \n",
              "1444      536544      21774  DECORATIVE CATS BATHROOM BOTTLE         2   \n",
              "1445      536544      21786               POLKADOT RAIN HAT          4   \n",
              "1446      536544      21787            RAIN PONCHO RETROSPOT         2   \n",
              "\n",
              "         invoice_date  unit_price  customer_id         country  \n",
              "622   12/1/2010 11:52        0.00          NaN  United Kingdom  \n",
              "1443  12/1/2010 14:32        2.51          NaN  United Kingdom  \n",
              "1444  12/1/2010 14:32        2.51          NaN  United Kingdom  \n",
              "1445  12/1/2010 14:32        0.85          NaN  United Kingdom  \n",
              "1446  12/1/2010 14:32        1.66          NaN  United Kingdom  "
            ]
          },
          "metadata": {
            "tags": []
          },
          "execution_count": 10
        }
      ]
    },
    {
      "cell_type": "markdown",
      "metadata": {
        "id": "rkuN5OLdA8CT"
      },
      "source": [
        "Il 25% delle transazioni non è legata a nessun cliente. Con i dati disponibili non è possibile assegnare il corretto ID del cliente.<br>\n",
        "Decidiamo quindi di rimuovere le osservazioni senza un ID cliente."
      ]
    },
    {
      "cell_type": "code",
      "metadata": {
        "id": "L0pvpm7HOpeR",
        "outputId": "fd98dc64-88a2-4b4b-845a-44eb36c42310",
        "colab": {
          "base_uri": "https://localhost:8080/",
          "height": 34
        }
      },
      "source": [
        "df.dropna(inplace = True)\n",
        "print('Dataframe dimensions:', df.shape)"
      ],
      "execution_count": null,
      "outputs": [
        {
          "output_type": "stream",
          "text": [
            "Dataframe dimensions: (406829, 8)\n"
          ],
          "name": "stdout"
        }
      ]
    },
    {
      "cell_type": "markdown",
      "metadata": {
        "id": "xQD9ik3xsDos"
      },
      "source": [
        "Rimuoviamo le osservazioni duplicate."
      ]
    },
    {
      "cell_type": "code",
      "metadata": {
        "id": "OMUBlIaJsEu2",
        "outputId": "2948c391-ca43-47a9-8780-df04ca4e2f67",
        "colab": {
          "base_uri": "https://localhost:8080/",
          "height": 34
        }
      },
      "source": [
        "print('Duplicated rows: {}'.format(df.duplicated().sum()))\n",
        "df.drop_duplicates(inplace = True)"
      ],
      "execution_count": null,
      "outputs": [
        {
          "output_type": "stream",
          "text": [
            "Duplicated rows: 5225\n"
          ],
          "name": "stdout"
        }
      ]
    },
    {
      "cell_type": "markdown",
      "metadata": {
        "id": "RaU2S_HSsXef"
      },
      "source": [
        "### **Analisi delle singole variabili**"
      ]
    },
    {
      "cell_type": "markdown",
      "metadata": {
        "id": "zj3uHKKJs5Px"
      },
      "source": [
        "Sistemiamo il formato delle date, da string a Timestamp."
      ]
    },
    {
      "cell_type": "code",
      "metadata": {
        "id": "puP8oVCNz6Fu"
      },
      "source": [
        "df['invoice_date'] = pd.to_datetime(df.invoice_date, format='%m/%d/%Y %H:%M')"
      ],
      "execution_count": null,
      "outputs": []
    },
    {
      "cell_type": "markdown",
      "metadata": {
        "id": "4erhBotes_S7"
      },
      "source": [
        "Modifichiamo la descrizione dei prodotti in modo che siamo tutte in minuscolo."
      ]
    },
    {
      "cell_type": "code",
      "metadata": {
        "id": "SAnkmXFDz6Xw"
      },
      "source": [
        "df['description'] = df.description.str.lower()"
      ],
      "execution_count": null,
      "outputs": []
    },
    {
      "cell_type": "markdown",
      "metadata": {
        "id": "t6ZD0MgIzFb7"
      },
      "source": [
        "Trasformiamo l'ID del cliente da variabile float a int."
      ]
    },
    {
      "cell_type": "code",
      "metadata": {
        "id": "oKrztHmC0Lzn"
      },
      "source": [
        "df['customer_id'] = df['customer_id'].astype('int64')"
      ],
      "execution_count": null,
      "outputs": []
    },
    {
      "cell_type": "markdown",
      "metadata": {
        "id": "akBaFZmGtyq9"
      },
      "source": [
        "Analizziamo la variabile \"quantity\" tramite istogramma."
      ]
    },
    {
      "cell_type": "code",
      "metadata": {
        "id": "F-MQRg9At0vR",
        "outputId": "00f2107b-6500-457b-f653-c35d0e4e9f56",
        "colab": {
          "base_uri": "https://localhost:8080/",
          "height": 297
        }
      },
      "source": [
        "plt.subplots(figsize=(10,4))\n",
        "plt.hist(df['quantity'], color='dodgerblue', bins=80)\n",
        "plt.xlabel('Quantità')\n",
        "# plt.ylabel('')\n",
        "plt.title('Quantità comprata per singolo prodotto in un ordine', fontsize=18, pad=20)\n",
        "plt.tight_layout()\n",
        "plt.show()"
      ],
      "execution_count": null,
      "outputs": [
        {
          "output_type": "display_data",
          "data": {
            "image/png": "[encoded data removed]",
            "text/plain": [
              "<Figure size 720x288 with 1 Axes>"
            ]
          },
          "metadata": {
            "tags": [],
            "needs_background": "light"
          }
        }
      ]
    },
    {
      "cell_type": "markdown",
      "metadata": {
        "id": "sWt5q5upuolx"
      },
      "source": [
        "Il risulato dell'istogramma è dovuto a valori anomali. Calcoliamo il valore massimo e minimo."
      ]
    },
    {
      "cell_type": "code",
      "metadata": {
        "id": "nMcc9QcCuqv8",
        "outputId": "0dfb6642-6f5d-4ea8-b6d0-d3d21c313277",
        "colab": {
          "base_uri": "https://localhost:8080/",
          "height": 50
        }
      },
      "source": [
        "print(f'Max quantity: {max(df[\"quantity\"])}')\n",
        "print(f'Min quantity: {min(df[\"quantity\"])}')"
      ],
      "execution_count": null,
      "outputs": [
        {
          "output_type": "stream",
          "text": [
            "Max quantity: 80995\n",
            "Min quantity: -80995\n"
          ],
          "name": "stdout"
        }
      ]
    },
    {
      "cell_type": "markdown",
      "metadata": {
        "id": "VeBEkSY-vayn"
      },
      "source": [
        "Verifichiamo quante osservazioni hanno una quantità negativa."
      ]
    },
    {
      "cell_type": "code",
      "metadata": {
        "id": "-T7kKXIgvglW",
        "outputId": "5fb1b459-e045-4e9b-a935-9c2b75e96286",
        "colab": {
          "base_uri": "https://localhost:8080/",
          "height": 34
        }
      },
      "source": [
        "print(f'Negative quantity: {df[df[\"quantity\"] < 0].shape[0]}')"
      ],
      "execution_count": null,
      "outputs": [
        {
          "output_type": "stream",
          "text": [
            "Negative quantity: 8872\n"
          ],
          "name": "stdout"
        }
      ]
    },
    {
      "cell_type": "markdown",
      "metadata": {
        "id": "1p1cpaxNRwc-"
      },
      "source": [
        "Controlliamo la variabile \"stock_code\"."
      ]
    },
    {
      "cell_type": "code",
      "metadata": {
        "id": "KKWM6xwHR3Lo",
        "outputId": "a0eaaf08-4f9f-4eb6-dd67-844950f7903f",
        "colab": {
          "base_uri": "https://localhost:8080/",
          "height": 50
        }
      },
      "source": [
        "codes = [el for el in df[\"stock_code\"].unique().tolist() if (len(el) < 5) or (len(el) > 7)]\n",
        "print(codes)\n",
        "print('Peculiar purchases:', df[df[\"stock_code\"].isin(codes)].shape[0])"
      ],
      "execution_count": null,
      "outputs": [
        {
          "output_type": "stream",
          "text": [
            "['POST', 'D', 'C2', 'M', 'BANK CHARGES', 'PADS', 'DOT', 'CRUK']\n",
            "Peculiar purchases: 1915\n"
          ],
          "name": "stdout"
        }
      ]
    },
    {
      "cell_type": "markdown",
      "metadata": {
        "id": "qZcWhhjNTAZC"
      },
      "source": [
        "La D indica i \"Discount\". Eliminiamo tutti i codici particolari tranne gli sconti."
      ]
    },
    {
      "cell_type": "code",
      "metadata": {
        "id": "4TBeRvKRTMHQ",
        "outputId": "20eff475-6ab6-4ef9-f8ad-37cbd7d30618",
        "colab": {
          "base_uri": "https://localhost:8080/",
          "height": 34
        }
      },
      "source": [
        "codes.remove(\"D\")\n",
        "df = df[~df[\"stock_code\"].isin(codes)]\n",
        "print(f'Number of rows: {df.shape[0]}')"
      ],
      "execution_count": null,
      "outputs": [
        {
          "output_type": "stream",
          "text": [
            "Number of rows: 399766\n"
          ],
          "name": "stdout"
        }
      ]
    },
    {
      "cell_type": "code",
      "metadata": {
        "id": "eB5TVPawIz_f",
        "outputId": "0c7a7c15-a5c6-4d42-920a-9be3ca8ae9b5",
        "colab": {
          "base_uri": "https://localhost:8080/",
          "height": 34
        }
      },
      "source": [
        "df[df[\"quantity\"] < 0].shape[0]"
      ],
      "execution_count": null,
      "outputs": [
        {
          "output_type": "execute_result",
          "data": {
            "text/plain": [
              "8583"
            ]
          },
          "metadata": {
            "tags": []
          },
          "execution_count": 200
        }
      ]
    },
    {
      "cell_type": "markdown",
      "metadata": {
        "id": "9lelvj3nETkk"
      },
      "source": [
        "Eliminiamo tutte le transazioni con quantità negativa a cui corrisponde una quantità positiva.<br>\n",
        "Si tratta dei casi in cui un acquisto è stato cancellato."
      ]
    },
    {
      "cell_type": "code",
      "metadata": {
        "id": "H5mb0lub7rAa"
      },
      "source": [
        "df_delete = df[df[\"quantity\"] < 0].copy()\n",
        "df_delete[\"quantity\"] = -df_delete[\"quantity\"]\n",
        "df_delete = pd.merge(df, df_delete, how='inner', left_on=[\"stock_code\", \"customer_id\", \"quantity\"], right_on=[\"stock_code\", \"customer_id\", \"quantity\"])\n",
        "\n",
        "invoice_delete = df_delete[[\"invoice_num_x\", \"stock_code\", \"customer_id\", \"quantity\"]]\n",
        "invoice_delete.rename(index=str, columns={'invoice_num_x': 'invoice_num'}, inplace=True)\n",
        "\n",
        "# Create Dataframe containing negative quantities\n",
        "invoice_delete_C = df_delete[[\"invoice_num_y\", \"stock_code\", \"customer_id\", \"quantity\"]]\n",
        "invoice_delete_C.rename(index=str, columns={'invoice_num_y': 'invoice_num'}, inplace=True)\n",
        "invoice_delete_C['quantity'] = -invoice_delete_C['quantity']\n",
        "\n",
        "# Update Dataframe with invoice to delete and positive quantities\n",
        "df = df.merge(invoice_delete, on=[\"invoice_num\", \"stock_code\", \"customer_id\", \"quantity\"], how='outer', indicator='merge')\n",
        "df = df[df['merge']=='left_only']\n",
        "df.drop('merge', axis=1, inplace=True)\n",
        "\n",
        "# Update Dataframe with invoice to delete and negative quantities\n",
        "df = df.merge(invoice_delete_C, on=[\"invoice_num\", \"stock_code\", \"customer_id\", \"quantity\"], how='outer', indicator='merge')\n",
        "df = df[df['merge']=='left_only']\n",
        "df.drop('merge', axis=1, inplace=True)"
      ],
      "execution_count": null,
      "outputs": []
    },
    {
      "cell_type": "markdown",
      "metadata": {
        "id": "IiES_kTDGa8y"
      },
      "source": [
        "Numero di osservazioni dopo la pulizia:"
      ]
    },
    {
      "cell_type": "code",
      "metadata": {
        "id": "0g7zC4iWA2rP",
        "outputId": "d98ba34a-4faa-4eb7-b20d-1984da788eaf",
        "colab": {
          "base_uri": "https://localhost:8080/",
          "height": 34
        }
      },
      "source": [
        "df.shape[0]"
      ],
      "execution_count": null,
      "outputs": [
        {
          "output_type": "execute_result",
          "data": {
            "text/plain": [
              "391386"
            ]
          },
          "metadata": {
            "tags": []
          },
          "execution_count": 202
        }
      ]
    },
    {
      "cell_type": "code",
      "metadata": {
        "id": "zGAZnWcz0m4u",
        "outputId": "bb8e4e45-6ed0-4662-ab5f-f2ebcb1e8673",
        "colab": {
          "base_uri": "https://localhost:8080/",
          "height": 34
        }
      },
      "source": [
        "df[(df[\"stock_code\"] != \"D\") & (df[\"quantity\"] < 0)].shape[0]"
      ],
      "execution_count": null,
      "outputs": [
        {
          "output_type": "execute_result",
          "data": {
            "text/plain": [
              "5350"
            ]
          },
          "metadata": {
            "tags": []
          },
          "execution_count": 29
        }
      ]
    },
    {
      "cell_type": "markdown",
      "metadata": {
        "id": "Zwnd6QOEG6xA"
      },
      "source": [
        "Sono rimasti circa 5'000 pagamenti con quantità negative a cui non siamo riusciti ad associare un acquisto corrispondente. 77 dei pagamenti sono sconti. Eliminiamo gli acquisti negativi tranne gli sconti.\n"
      ]
    },
    {
      "cell_type": "code",
      "metadata": {
        "id": "hbqLFI4zQGpT"
      },
      "source": [
        "df = df[(df[\"stock_code\"] != \"D\") & (df[\"quantity\"] > 0)]"
      ],
      "execution_count": null,
      "outputs": []
    },
    {
      "cell_type": "markdown",
      "metadata": {
        "id": "nfOCr_xeHYQK"
      },
      "source": [
        "Analizziamo il prezzo dei prodotti."
      ]
    },
    {
      "cell_type": "code",
      "metadata": {
        "id": "PXlB8E9-Hwit",
        "outputId": "03fb3cb6-04d0-488b-cb7b-c528d64d967a",
        "colab": {
          "base_uri": "https://localhost:8080/",
          "height": 34
        }
      },
      "source": [
        "print(f\"Gift: {df[df['unit_price'] == 0].shape[0]}\")\n",
        "df = df[df['unit_price'] != 0]"
      ],
      "execution_count": null,
      "outputs": [
        {
          "output_type": "stream",
          "text": [
            "Gift: 30\n"
          ],
          "name": "stdout"
        }
      ]
    },
    {
      "cell_type": "markdown",
      "metadata": {
        "id": "i4WbImggIN56"
      },
      "source": [
        "I prodotti con prezzo uguale a 0 sono possibili regali. Li eliminiamo dal dataset."
      ]
    },
    {
      "cell_type": "markdown",
      "metadata": {
        "id": "GKP6z48LIqUt"
      },
      "source": [
        "Visualizziamo un'istogramma dei prezzi dei prodotti, escludendo i prodotti più costosi."
      ]
    },
    {
      "cell_type": "code",
      "metadata": {
        "id": "yBZVwfwrHjZ7",
        "outputId": "aae9b811-610c-46eb-caee-8a5413b37636",
        "colab": {
          "base_uri": "https://localhost:8080/",
          "height": 369
        }
      },
      "source": [
        "plt.subplots(figsize=(10,5))\n",
        "plt.hist(df[df['unit_price']<20]['unit_price'], bins=80, color='orange', edgecolor='white')\n",
        "# plt.xlim(0, 250)\n",
        "plt.xlabel('Prezzo')\n",
        "# plt.ylabel('')\n",
        "plt.title('Distribuzione dei prezzi dei prodotti', fontsize=18, pad=20)\n",
        "plt.tight_layout()\n",
        "plt.show()"
      ],
      "execution_count": null,
      "outputs": [
        {
          "output_type": "display_data",
          "data": {
            "image/png": "[encoded data removed]",
            "text/plain": [
              "<Figure size 720x360 with 1 Axes>"
            ]
          },
          "metadata": {
            "tags": [],
            "needs_background": "light"
          }
        }
      ]
    },
    {
      "cell_type": "markdown",
      "metadata": {
        "id": "bjiGPFfhPQVg"
      },
      "source": [
        "Visualizziamo la distribuzione delle quantità acquistate per individuare trend particolari."
      ]
    },
    {
      "cell_type": "code",
      "metadata": {
        "id": "E_rGB45uPTnH",
        "outputId": "1ac752eb-bc20-4fb7-c85d-79965f7e89b9",
        "colab": {
          "base_uri": "https://localhost:8080/",
          "height": 369
        }
      },
      "source": [
        "plt.subplots(figsize=(10,5))\n",
        "plt.hist(df[(df['quantity'] < 62) & (df['unit_price'] > 0)]['quantity'], bins=59, color='green', edgecolor='white')\n",
        "plt.xlabel('Quantità')\n",
        "# plt.ylabel('')\n",
        "plt.title('Quantità comprate', fontsize=18, pad=20)\n",
        "plt.tight_layout()\n",
        "plt.show()"
      ],
      "execution_count": null,
      "outputs": [
        {
          "output_type": "display_data",
          "data": {
            "image/png": "[encoded data removed]",
            "text/plain": [
              "<Figure size 720x360 with 1 Axes>"
            ]
          },
          "metadata": {
            "tags": [],
            "needs_background": "light"
          }
        }
      ]
    },
    {
      "cell_type": "markdown",
      "metadata": {
        "id": "-tpWwUADT4D4"
      },
      "source": [
        "Passiamo ad analizzare la nazionalità dei clienti.<br>\n",
        "Di seguito la frequenza dei clienti per nazione d'origine."
      ]
    },
    {
      "cell_type": "code",
      "metadata": {
        "id": "cW6mgFyaT7kT",
        "outputId": "6debf304-37af-4921-a7b6-df6aa4569fa8",
        "colab": {
          "base_uri": "https://localhost:8080/",
          "height": 657
        }
      },
      "source": [
        "df_country = df.groupby('country')['invoice_num'].count().sort_values()\n",
        "\n",
        "plt.subplots(figsize=(8,9))\n",
        "df_country.plot(kind='barh', fontsize=12, color='dodgerblue')\n",
        "# plt.hist(df['country'], bins=59)\n",
        "plt.xlabel('')\n",
        "plt.ylabel('')\n",
        "plt.title('Nazionalità dei clienti', fontsize=18, pad=20)\n",
        "plt.tight_layout()\n",
        "plt.show()"
      ],
      "execution_count": null,
      "outputs": [
        {
          "output_type": "display_data",
          "data": {
            "image/png": "[encoded data removed]",
            "text/plain": [
              "<Figure size 576x648 with 1 Axes>"
            ]
          },
          "metadata": {
            "tags": [],
            "needs_background": "light"
          }
        }
      ]
    },
    {
      "cell_type": "markdown",
      "metadata": {
        "id": "8s6O-TYrdirg"
      },
      "source": [
        "Essendo l'e-commerce britannico, eliminiamo la gran bretagna per poter visualizzare meglio gli altri stati d'origine."
      ]
    },
    {
      "cell_type": "code",
      "metadata": {
        "id": "FpgI9F_QdGuY",
        "outputId": "d01dcfcc-8478-498d-bacd-737226eb71b5",
        "colab": {
          "base_uri": "https://localhost:8080/",
          "height": 657
        }
      },
      "source": [
        "del df_country['United Kingdom']\n",
        "\n",
        "plt.subplots(figsize=(8,9))\n",
        "df_country.plot(kind='barh', fontsize=12, color='dodgerblue')\n",
        "# plt.hist(df['country'], bins=59)\n",
        "plt.xlabel('')\n",
        "plt.ylabel('')\n",
        "plt.title('Nazionalità dei clienti', fontsize=18, pad=20)\n",
        "plt.tight_layout()\n",
        "plt.show()"
      ],
      "execution_count": null,
      "outputs": [
        {
          "output_type": "display_data",
          "data": {
            "image/png": "[encoded data removed]",
            "text/plain": [
              "<Figure size 576x648 with 1 Axes>"
            ]
          },
          "metadata": {
            "tags": [],
            "needs_background": "light"
          }
        }
      ]
    },
    {
      "cell_type": "markdown",
      "metadata": {
        "id": "QaYrOhOcP0yd"
      },
      "source": [
        "Aggiungiamo la variabile \"amount_spent\" = \"quantity\" * \"unit_price\""
      ]
    },
    {
      "cell_type": "code",
      "metadata": {
        "id": "lAOflRiZP1Sh"
      },
      "source": [
        "df['amount_spent'] = df['quantity'] * df['unit_price']"
      ],
      "execution_count": null,
      "outputs": []
    },
    {
      "cell_type": "markdown",
      "metadata": {
        "id": "KDzOr03IQHy5"
      },
      "source": [
        "Aggiungiamo le variabili \"date\", \"month\", \"weekday\" e \"hour\"."
      ]
    },
    {
      "cell_type": "code",
      "metadata": {
        "id": "HScZVtJQQIFZ"
      },
      "source": [
        "df.insert(loc=2, column='date', value=df['invoice_date'].dt.date)\n",
        "df.insert(loc=3, column='month', value=df['invoice_date'].dt.month)\n",
        "df.insert(loc=4, column='weekday', value=df['invoice_date'].dt.dayofweek)\n",
        "df.insert(loc=5, column='hour', value=df['invoice_date'].dt.hour)"
      ],
      "execution_count": null,
      "outputs": []
    },
    {
      "cell_type": "markdown",
      "metadata": {
        "id": "nbkMXzA1hCXU"
      },
      "source": [
        "Aggiungiamo le variabili \"local_weekday\" e \"local_hour\"."
      ]
    },
    {
      "cell_type": "code",
      "metadata": {
        "id": "OWa5EUmOhG7z"
      },
      "source": [
        "country_sorted = sorted(df['country'].unique().tolist())\n",
        "time_zone_diff = [9, 1, 2, 1, -4, -5, 1, 2, 1, 1, 0, 0, 2, 1, 1, 2, -1, 2, 1, 8, 2, 2, 1, 1, 1, 1, 0, 1, 2, 7, 1, 1, 1, -7, 3, 0, 0]\n",
        "df_timezone = pd.DataFrame()\n",
        "df_timezone['country'] = country_sorted\n",
        "df_timezone['time_diff'] = time_zone_diff\n",
        "\n",
        "df = df.merge(df_timezone, how='left', on='country')\n",
        "df['local_hour'] = df['hour'] + df['time_diff']"
      ],
      "execution_count": null,
      "outputs": []
    },
    {
      "cell_type": "code",
      "metadata": {
        "id": "7ZN0c84fqw3B"
      },
      "source": [
        "def local_weekday(row):\n",
        "  if row['local_hour'] > 23:\n",
        "    return row['weekday'] + 1\n",
        "  elif row['local_hour'] < 0:\n",
        "    return row['weekday'] - 1\n",
        "  else:\n",
        "    return row['weekday']"
      ],
      "execution_count": null,
      "outputs": []
    },
    {
      "cell_type": "code",
      "metadata": {
        "id": "KHWx_w3SpsRa"
      },
      "source": [
        "df['local_weekday'] = df.apply (lambda row: local_weekday(row), axis=1)\n",
        "df['local_hour'] = df['local_hour'] % 24"
      ],
      "execution_count": null,
      "outputs": []
    },
    {
      "cell_type": "markdown",
      "metadata": {
        "id": "tvFfCF49ui1e"
      },
      "source": [
        "Riordiniamo le variabili per comodità."
      ]
    },
    {
      "cell_type": "code",
      "metadata": {
        "id": "UcZBj0pIP3c_"
      },
      "source": [
        "# rearrange all the columns for easy reference\n",
        "df = df[['invoice_num','invoice_date','stock_code','description','quantity','unit_price','amount_spent',\n",
        "         'customer_id','country','time_diff','date','month','weekday','hour','local_weekday','local_hour']]"
      ],
      "execution_count": null,
      "outputs": []
    },
    {
      "cell_type": "code",
      "metadata": {
        "id": "1FBhqJoPvTB0",
        "outputId": "26e3e531-e358-436b-9e6e-f2ceba17a3fa",
        "colab": {
          "base_uri": "https://localhost:8080/",
          "height": 296
        }
      },
      "source": [
        "df.head()"
      ],
      "execution_count": null,
      "outputs": [
        {
          "output_type": "execute_result",
          "data": {
            "text/html": [
              "<div>\n",
              "<style scoped>\n",
              "    .dataframe tbody tr th:only-of-type {\n",
              "        vertical-align: middle;\n",
              "    }\n",
              "\n",
              "    .dataframe tbody tr th {\n",
              "        vertical-align: top;\n",
              "    }\n",
              "\n",
              "    .dataframe thead th {\n",
              "        text-align: right;\n",
              "    }\n",
              "</style>\n",
              "<table border=\"1\" class=\"dataframe\">\n",
              "  <thead>\n",
              "    <tr style=\"text-align: right;\">\n",
              "      <th></th>\n",
              "      <th>invoice_num</th>\n",
              "      <th>invoice_date</th>\n",
              "      <th>stock_code</th>\n",
              "      <th>description</th>\n",
              "      <th>quantity</th>\n",
              "      <th>unit_price</th>\n",
              "      <th>amount_spent</th>\n",
              "      <th>customer_id</th>\n",
              "      <th>country</th>\n",
              "      <th>time_diff</th>\n",
              "      <th>date</th>\n",
              "      <th>month</th>\n",
              "      <th>weekday</th>\n",
              "      <th>hour</th>\n",
              "      <th>local_weekday</th>\n",
              "      <th>local_hour</th>\n",
              "    </tr>\n",
              "  </thead>\n",
              "  <tbody>\n",
              "    <tr>\n",
              "      <th>0</th>\n",
              "      <td>536365</td>\n",
              "      <td>2010-12-01 08:26:00</td>\n",
              "      <td>85123A</td>\n",
              "      <td>white hanging heart t-light holder</td>\n",
              "      <td>6</td>\n",
              "      <td>2.55</td>\n",
              "      <td>15.30</td>\n",
              "      <td>17850</td>\n",
              "      <td>United Kingdom</td>\n",
              "      <td>0</td>\n",
              "      <td>2010-12-01</td>\n",
              "      <td>12</td>\n",
              "      <td>2</td>\n",
              "      <td>8</td>\n",
              "      <td>2</td>\n",
              "      <td>8</td>\n",
              "    </tr>\n",
              "    <tr>\n",
              "      <th>1</th>\n",
              "      <td>536365</td>\n",
              "      <td>2010-12-01 08:26:00</td>\n",
              "      <td>71053</td>\n",
              "      <td>white metal lantern</td>\n",
              "      <td>6</td>\n",
              "      <td>3.39</td>\n",
              "      <td>20.34</td>\n",
              "      <td>17850</td>\n",
              "      <td>United Kingdom</td>\n",
              "      <td>0</td>\n",
              "      <td>2010-12-01</td>\n",
              "      <td>12</td>\n",
              "      <td>2</td>\n",
              "      <td>8</td>\n",
              "      <td>2</td>\n",
              "      <td>8</td>\n",
              "    </tr>\n",
              "    <tr>\n",
              "      <th>2</th>\n",
              "      <td>536365</td>\n",
              "      <td>2010-12-01 08:26:00</td>\n",
              "      <td>84406B</td>\n",
              "      <td>cream cupid hearts coat hanger</td>\n",
              "      <td>8</td>\n",
              "      <td>2.75</td>\n",
              "      <td>22.00</td>\n",
              "      <td>17850</td>\n",
              "      <td>United Kingdom</td>\n",
              "      <td>0</td>\n",
              "      <td>2010-12-01</td>\n",
              "      <td>12</td>\n",
              "      <td>2</td>\n",
              "      <td>8</td>\n",
              "      <td>2</td>\n",
              "      <td>8</td>\n",
              "    </tr>\n",
              "    <tr>\n",
              "      <th>3</th>\n",
              "      <td>536365</td>\n",
              "      <td>2010-12-01 08:26:00</td>\n",
              "      <td>84029G</td>\n",
              "      <td>knitted union flag hot water bottle</td>\n",
              "      <td>6</td>\n",
              "      <td>3.39</td>\n",
              "      <td>20.34</td>\n",
              "      <td>17850</td>\n",
              "      <td>United Kingdom</td>\n",
              "      <td>0</td>\n",
              "      <td>2010-12-01</td>\n",
              "      <td>12</td>\n",
              "      <td>2</td>\n",
              "      <td>8</td>\n",
              "      <td>2</td>\n",
              "      <td>8</td>\n",
              "    </tr>\n",
              "    <tr>\n",
              "      <th>4</th>\n",
              "      <td>536365</td>\n",
              "      <td>2010-12-01 08:26:00</td>\n",
              "      <td>84029E</td>\n",
              "      <td>red woolly hottie white heart.</td>\n",
              "      <td>6</td>\n",
              "      <td>3.39</td>\n",
              "      <td>20.34</td>\n",
              "      <td>17850</td>\n",
              "      <td>United Kingdom</td>\n",
              "      <td>0</td>\n",
              "      <td>2010-12-01</td>\n",
              "      <td>12</td>\n",
              "      <td>2</td>\n",
              "      <td>8</td>\n",
              "      <td>2</td>\n",
              "      <td>8</td>\n",
              "    </tr>\n",
              "  </tbody>\n",
              "</table>\n",
              "</div>"
            ],
            "text/plain": [
              "  invoice_num        invoice_date stock_code  \\\n",
              "0      536365 2010-12-01 08:26:00     85123A   \n",
              "1      536365 2010-12-01 08:26:00      71053   \n",
              "2      536365 2010-12-01 08:26:00     84406B   \n",
              "3      536365 2010-12-01 08:26:00     84029G   \n",
              "4      536365 2010-12-01 08:26:00     84029E   \n",
              "\n",
              "                           description  quantity  unit_price  amount_spent  \\\n",
              "0   white hanging heart t-light holder         6        2.55         15.30   \n",
              "1                  white metal lantern         6        3.39         20.34   \n",
              "2       cream cupid hearts coat hanger         8        2.75         22.00   \n",
              "3  knitted union flag hot water bottle         6        3.39         20.34   \n",
              "4       red woolly hottie white heart.         6        3.39         20.34   \n",
              "\n",
              "   customer_id         country  time_diff        date  month  weekday  hour  \\\n",
              "0        17850  United Kingdom          0  2010-12-01     12        2     8   \n",
              "1        17850  United Kingdom          0  2010-12-01     12        2     8   \n",
              "2        17850  United Kingdom          0  2010-12-01     12        2     8   \n",
              "3        17850  United Kingdom          0  2010-12-01     12        2     8   \n",
              "4        17850  United Kingdom          0  2010-12-01     12        2     8   \n",
              "\n",
              "   local_weekday  local_hour  \n",
              "0              2           8  \n",
              "1              2           8  \n",
              "2              2           8  \n",
              "3              2           8  \n",
              "4              2           8  "
            ]
          },
          "metadata": {
            "tags": []
          },
          "execution_count": 43
        }
      ]
    },
    {
      "cell_type": "markdown",
      "metadata": {
        "id": "_vcfHzpJQU_P"
      },
      "source": [
        "### **Analisi dei dati**"
      ]
    },
    {
      "cell_type": "markdown",
      "metadata": {
        "id": "FcpccGJDwQni"
      },
      "source": [
        "Individuiamo i 5 prodotti più venduti."
      ]
    },
    {
      "cell_type": "code",
      "metadata": {
        "id": "iEjr7YozwSvx",
        "outputId": "5657aa40-92d6-45a7-f51e-150c4ce514c0",
        "colab": {
          "base_uri": "https://localhost:8080/",
          "height": 195
        }
      },
      "source": [
        "product_sales = df.groupby(['stock_code'], as_index=False)['invoice_num'].count().sort_values(by='invoice_num', ascending=False)\n",
        "product_sales = product_sales.merge(df.drop_duplicates('stock_code'), how='left', on=\"stock_code\")[[\"stock_code\", \"description\", \"invoice_num_x\"]]\n",
        "product_sales.rename(columns={'invoice_num_x':'orders'}, inplace=True)\n",
        "product_sales[['description', 'orders']].head()"
      ],
      "execution_count": null,
      "outputs": [
        {
          "output_type": "execute_result",
          "data": {
            "text/html": [
              "<div>\n",
              "<style scoped>\n",
              "    .dataframe tbody tr th:only-of-type {\n",
              "        vertical-align: middle;\n",
              "    }\n",
              "\n",
              "    .dataframe tbody tr th {\n",
              "        vertical-align: top;\n",
              "    }\n",
              "\n",
              "    .dataframe thead th {\n",
              "        text-align: right;\n",
              "    }\n",
              "</style>\n",
              "<table border=\"1\" class=\"dataframe\">\n",
              "  <thead>\n",
              "    <tr style=\"text-align: right;\">\n",
              "      <th></th>\n",
              "      <th>stock_code</th>\n",
              "      <th>description</th>\n",
              "      <th>invoice_num</th>\n",
              "    </tr>\n",
              "  </thead>\n",
              "  <tbody>\n",
              "    <tr>\n",
              "      <th>0</th>\n",
              "      <td>85123A</td>\n",
              "      <td>white hanging heart t-light holder</td>\n",
              "      <td>1993</td>\n",
              "    </tr>\n",
              "    <tr>\n",
              "      <th>1</th>\n",
              "      <td>22423</td>\n",
              "      <td>regency cakestand 3 tier</td>\n",
              "      <td>1622</td>\n",
              "    </tr>\n",
              "    <tr>\n",
              "      <th>2</th>\n",
              "      <td>85099B</td>\n",
              "      <td>jumbo bag red retrospot</td>\n",
              "      <td>1574</td>\n",
              "    </tr>\n",
              "    <tr>\n",
              "      <th>3</th>\n",
              "      <td>84879</td>\n",
              "      <td>assorted colour bird ornament</td>\n",
              "      <td>1389</td>\n",
              "    </tr>\n",
              "    <tr>\n",
              "      <th>4</th>\n",
              "      <td>47566</td>\n",
              "      <td>party bunting</td>\n",
              "      <td>1366</td>\n",
              "    </tr>\n",
              "  </tbody>\n",
              "</table>\n",
              "</div>"
            ],
            "text/plain": [
              "  stock_code                         description  invoice_num\n",
              "0     85123A  white hanging heart t-light holder         1993\n",
              "1      22423            regency cakestand 3 tier         1622\n",
              "2     85099B             jumbo bag red retrospot         1574\n",
              "3      84879       assorted colour bird ornament         1389\n",
              "4      47566                       party bunting         1366"
            ]
          },
          "metadata": {
            "tags": []
          },
          "execution_count": 44
        }
      ]
    },
    {
      "cell_type": "markdown",
      "metadata": {
        "id": "wBqwYIBG5Sgx"
      },
      "source": [
        "Quanti prodotti con un unico acquisto?"
      ]
    },
    {
      "cell_type": "code",
      "metadata": {
        "id": "Sr9OaHvq5VAh",
        "outputId": "58466db2-40a7-4057-e015-1df898e8f4e6",
        "colab": {
          "base_uri": "https://localhost:8080/",
          "height": 34
        }
      },
      "source": [
        "product_sales[product_sales['orders'] == 1].shape[0]"
      ],
      "execution_count": null,
      "outputs": [
        {
          "output_type": "execute_result",
          "data": {
            "text/plain": [
              "161"
            ]
          },
          "metadata": {
            "tags": []
          },
          "execution_count": 45
        }
      ]
    },
    {
      "cell_type": "markdown",
      "metadata": {
        "id": "7nRAzsjCzmDv"
      },
      "source": [
        "Visualizziamo i prodotti per numero di vendite decrescente."
      ]
    },
    {
      "cell_type": "code",
      "metadata": {
        "id": "PW1tLzCKzlAp",
        "outputId": "dff7fa44-4ed2-4022-8d9c-05077ac38c34",
        "colab": {
          "base_uri": "https://localhost:8080/",
          "height": 585
        }
      },
      "source": [
        "product_sales_plt = product_sales[:20].sort_values(by='orders')\n",
        "plt.subplots(figsize=(8,8))\n",
        "plt.barh(product_sales_plt['description'], product_sales_plt['orders'], color=\"orange\")\n",
        "plt.xlabel('Unità vendute')\n",
        "plt.title('Prodotti più venduti', fontsize=18, pad=20)\n",
        "plt.tight_layout()\n",
        "plt.show()"
      ],
      "execution_count": null,
      "outputs": [
        {
          "output_type": "display_data",
          "data": {
            "image/png": "[encoded data removed]",
            "text/plain": [
              "<Figure size 576x576 with 1 Axes>"
            ]
          },
          "metadata": {
            "tags": [],
            "needs_background": "light"
          }
        }
      ]
    },
    {
      "cell_type": "markdown",
      "metadata": {
        "id": "pnkVkyLnFPEw"
      },
      "source": [
        "Numero di clienti totale:"
      ]
    },
    {
      "cell_type": "code",
      "metadata": {
        "id": "qSCp09t-D0gO",
        "outputId": "21aa6a2f-64f8-423b-d7ba-2f9c685f8f63",
        "colab": {
          "base_uri": "https://localhost:8080/",
          "height": 34
        }
      },
      "source": [
        "len(df['customer_id'].unique().tolist())"
      ],
      "execution_count": null,
      "outputs": [
        {
          "output_type": "execute_result",
          "data": {
            "text/plain": [
              "4321"
            ]
          },
          "metadata": {
            "tags": []
          },
          "execution_count": 47
        }
      ]
    },
    {
      "cell_type": "markdown",
      "metadata": {
        "id": "xTmOWGhvFzIp"
      },
      "source": [
        "Calcoliamo il numero di acquisti per ogni giorno dell'anno."
      ]
    },
    {
      "cell_type": "code",
      "metadata": {
        "id": "j3Ca6TDRF2RR",
        "outputId": "1a2c545b-e59e-4822-c5be-0f2e162d33fe",
        "colab": {
          "base_uri": "https://localhost:8080/",
          "height": 195
        }
      },
      "source": [
        "df_purchase = df.groupby(by=['date', 'invoice_num'], as_index=False).count()\n",
        "df_purchase = df_purchase.groupby(by=['date'], as_index=False)['invoice_num'].count()\n",
        "df_purchase.rename(columns={'invoice_num':'purchase'}, inplace=True)\n",
        "df_purchase.head()"
      ],
      "execution_count": null,
      "outputs": [
        {
          "output_type": "execute_result",
          "data": {
            "text/html": [
              "<div>\n",
              "<style scoped>\n",
              "    .dataframe tbody tr th:only-of-type {\n",
              "        vertical-align: middle;\n",
              "    }\n",
              "\n",
              "    .dataframe tbody tr th {\n",
              "        vertical-align: top;\n",
              "    }\n",
              "\n",
              "    .dataframe thead th {\n",
              "        text-align: right;\n",
              "    }\n",
              "</style>\n",
              "<table border=\"1\" class=\"dataframe\">\n",
              "  <thead>\n",
              "    <tr style=\"text-align: right;\">\n",
              "      <th></th>\n",
              "      <th>date</th>\n",
              "      <th>purchase</th>\n",
              "    </tr>\n",
              "  </thead>\n",
              "  <tbody>\n",
              "    <tr>\n",
              "      <th>0</th>\n",
              "      <td>2010-12-01</td>\n",
              "      <td>121</td>\n",
              "    </tr>\n",
              "    <tr>\n",
              "      <th>1</th>\n",
              "      <td>2010-12-02</td>\n",
              "      <td>136</td>\n",
              "    </tr>\n",
              "    <tr>\n",
              "      <th>2</th>\n",
              "      <td>2010-12-03</td>\n",
              "      <td>57</td>\n",
              "    </tr>\n",
              "    <tr>\n",
              "      <th>3</th>\n",
              "      <td>2010-12-05</td>\n",
              "      <td>86</td>\n",
              "    </tr>\n",
              "    <tr>\n",
              "      <th>4</th>\n",
              "      <td>2010-12-06</td>\n",
              "      <td>92</td>\n",
              "    </tr>\n",
              "  </tbody>\n",
              "</table>\n",
              "</div>"
            ],
            "text/plain": [
              "         date  purchase\n",
              "0  2010-12-01       121\n",
              "1  2010-12-02       136\n",
              "2  2010-12-03        57\n",
              "3  2010-12-05        86\n",
              "4  2010-12-06        92"
            ]
          },
          "metadata": {
            "tags": []
          },
          "execution_count": 222
        }
      ]
    },
    {
      "cell_type": "markdown",
      "metadata": {
        "id": "W4fm15h9OEds"
      },
      "source": [
        "Visualizziamo il numero di acquisti durante l'anno."
      ]
    },
    {
      "cell_type": "code",
      "metadata": {
        "id": "QQE1I76XOG7s",
        "outputId": "223b1b63-1077-41e5-f308-9d528b0437a9",
        "colab": {
          "base_uri": "https://localhost:8080/",
          "height": 297
        }
      },
      "source": [
        "plt.subplots(figsize=(12,4))\n",
        "plt.plot(df_purchase['date'], df_purchase['purchase'], color=\"dodgerblue\")\n",
        "#plt.xlabel('Data')\n",
        "plt.ylabel('Acquisti')\n",
        "plt.title(\"Acquisti durante l'anno\", fontsize=18, pad=20)\n",
        "plt.tight_layout()\n",
        "plt.show()"
      ],
      "execution_count": null,
      "outputs": [
        {
          "output_type": "display_data",
          "data": {
            "image/png": "[encoded data removed]",
            "text/plain": [
              "<Figure size 864x288 with 1 Axes>"
            ]
          },
          "metadata": {
            "tags": [],
            "needs_background": "light"
          }
        }
      ]
    },
    {
      "cell_type": "markdown",
      "metadata": {
        "id": "lP0MD554KLcM"
      },
      "source": [
        "Individuiamo la giornata con il numero massimo e minimo di acquisti e gli acquisti medi giornalieri."
      ]
    },
    {
      "cell_type": "code",
      "metadata": {
        "id": "0jzN2DW-KHzT",
        "outputId": "a56054ed-c083-40f5-a1ac-ef470268b807",
        "colab": {
          "base_uri": "https://localhost:8080/",
          "height": 67
        }
      },
      "source": [
        "max_date = df_purchase[df_purchase['purchase'] == df_purchase['purchase'].max()].iloc[0]['date']\n",
        "max_value = df_purchase['purchase'].max()\n",
        "min_date = df_purchase[df_purchase['purchase'] == df_purchase['purchase'].min()].iloc[0]['date']\n",
        "min_value = df_purchase['purchase'].min()\n",
        "mean_value = int(df_purchase['purchase'].mean())\n",
        "\n",
        "print(f'Giornata migliore: {max_date} con {max_value} acquisti')\n",
        "print(f'Giornata peggiore: {min_date} con {min_value} acquisti')\n",
        "print(f'Acquisti giornalieri in media: {mean_value}')"
      ],
      "execution_count": null,
      "outputs": [
        {
          "output_type": "stream",
          "text": [
            "Giornata migliore: 2010-12-02 con 136 acquisti\n",
            "Giornata peggiore: 2011-02-06 con 11 acquisti\n",
            "Acquisti giornalieri in media: 59\n"
          ],
          "name": "stdout"
        }
      ]
    },
    {
      "cell_type": "markdown",
      "metadata": {
        "id": "531SHdlqPLRA"
      },
      "source": [
        "Visualizziamo il fatturato durante l'anno per valutarne l'andamento."
      ]
    },
    {
      "cell_type": "code",
      "metadata": {
        "id": "f1yaPMGlPODA",
        "outputId": "fb75a94c-dc7d-4af2-aeea-a0e2434ad610",
        "colab": {
          "base_uri": "https://localhost:8080/",
          "height": 297
        }
      },
      "source": [
        "df_revenue = df.groupby(by=['date'], as_index=False)['amount_spent'].sum()\n",
        "\n",
        "plt.subplots(figsize=(12,4))\n",
        "plt.plot(df_revenue['date'], df_revenue['amount_spent'], color=\"green\")\n",
        "#plt.xlabel('Data')\n",
        "plt.ylabel('Fatturato')\n",
        "plt.title(\"Fatturato durante l'anno\", fontsize=18, pad=20)\n",
        "plt.tight_layout()\n",
        "plt.show()"
      ],
      "execution_count": null,
      "outputs": [
        {
          "output_type": "display_data",
          "data": {
            "image/png": "[encoded data removed]",
            "text/plain": [
              "<Figure size 864x288 with 1 Axes>"
            ]
          },
          "metadata": {
            "tags": [],
            "needs_background": "light"
          }
        }
      ]
    },
    {
      "cell_type": "markdown",
      "metadata": {
        "id": "KpJ0OLD9QVe-"
      },
      "source": [
        "Verifichiamo quanti ordini sono stati fatti dai clienti."
      ]
    },
    {
      "cell_type": "markdown",
      "metadata": {
        "id": "7RrxZS5zWsG6"
      },
      "source": [
        "Creiamo un DataFrame per i clienti."
      ]
    },
    {
      "cell_type": "code",
      "metadata": {
        "id": "hPOCrZiSQXFw",
        "outputId": "1418e211-8356-4379-a376-aa78f2db41d5",
        "colab": {
          "base_uri": "https://localhost:8080/",
          "height": 195
        }
      },
      "source": [
        "df_customer = df.groupby(by=['customer_id', 'invoice_date'], as_index=False)['invoice_num'].count()\n",
        "df_customer.rename(columns={'invoice_num':'orders'}, inplace=True)\n",
        "df_customer = df_customer.groupby(by=['customer_id'], as_index=False)['orders'].count()\n",
        "df_customer_spent = df.groupby(by=['customer_id', 'country'], as_index=False)['amount_spent'].sum()\n",
        "df_customer = df_customer.merge(df_customer_spent, on=['customer_id'])\n",
        "df_customer['purchase_avg'] = round(df_customer['amount_spent'] / df_customer['orders'], 2)\n",
        "df_customer.head()"
      ],
      "execution_count": null,
      "outputs": [
        {
          "output_type": "execute_result",
          "data": {
            "text/html": [
              "<div>\n",
              "<style scoped>\n",
              "    .dataframe tbody tr th:only-of-type {\n",
              "        vertical-align: middle;\n",
              "    }\n",
              "\n",
              "    .dataframe tbody tr th {\n",
              "        vertical-align: top;\n",
              "    }\n",
              "\n",
              "    .dataframe thead th {\n",
              "        text-align: right;\n",
              "    }\n",
              "</style>\n",
              "<table border=\"1\" class=\"dataframe\">\n",
              "  <thead>\n",
              "    <tr style=\"text-align: right;\">\n",
              "      <th></th>\n",
              "      <th>customer_id</th>\n",
              "      <th>orders</th>\n",
              "      <th>country</th>\n",
              "      <th>amount_spent</th>\n",
              "      <th>purchase_avg</th>\n",
              "    </tr>\n",
              "  </thead>\n",
              "  <tbody>\n",
              "    <tr>\n",
              "      <th>0</th>\n",
              "      <td>12347</td>\n",
              "      <td>7</td>\n",
              "      <td>Iceland</td>\n",
              "      <td>4310.00</td>\n",
              "      <td>615.71</td>\n",
              "    </tr>\n",
              "    <tr>\n",
              "      <th>1</th>\n",
              "      <td>12348</td>\n",
              "      <td>4</td>\n",
              "      <td>Finland</td>\n",
              "      <td>1437.24</td>\n",
              "      <td>359.31</td>\n",
              "    </tr>\n",
              "    <tr>\n",
              "      <th>2</th>\n",
              "      <td>12349</td>\n",
              "      <td>1</td>\n",
              "      <td>Italy</td>\n",
              "      <td>1457.55</td>\n",
              "      <td>1457.55</td>\n",
              "    </tr>\n",
              "    <tr>\n",
              "      <th>3</th>\n",
              "      <td>12350</td>\n",
              "      <td>1</td>\n",
              "      <td>Norway</td>\n",
              "      <td>294.40</td>\n",
              "      <td>294.40</td>\n",
              "    </tr>\n",
              "    <tr>\n",
              "      <th>4</th>\n",
              "      <td>12352</td>\n",
              "      <td>5</td>\n",
              "      <td>Norway</td>\n",
              "      <td>1125.28</td>\n",
              "      <td>225.06</td>\n",
              "    </tr>\n",
              "  </tbody>\n",
              "</table>\n",
              "</div>"
            ],
            "text/plain": [
              "   customer_id  orders  country  amount_spent  purchase_avg\n",
              "0        12347       7  Iceland       4310.00        615.71\n",
              "1        12348       4  Finland       1437.24        359.31\n",
              "2        12349       1    Italy       1457.55       1457.55\n",
              "3        12350       1   Norway        294.40        294.40\n",
              "4        12352       5   Norway       1125.28        225.06"
            ]
          },
          "metadata": {
            "tags": []
          },
          "execution_count": 224
        }
      ]
    },
    {
      "cell_type": "markdown",
      "metadata": {
        "id": "S821Ah5YWuwd"
      },
      "source": [
        "Individuiamo i clienti con più ordini."
      ]
    },
    {
      "cell_type": "code",
      "metadata": {
        "id": "Dm-cUh5tAY_a",
        "outputId": "fcd7293f-18f7-4fe0-b8c0-d89c507e5479",
        "colab": {
          "base_uri": "https://localhost:8080/",
          "height": 195
        }
      },
      "source": [
        "df_customer_plt = df_customer.sort_values(by='orders', ascending=False).reset_index(drop=True)\n",
        "df_customer_plt.head()"
      ],
      "execution_count": null,
      "outputs": [
        {
          "output_type": "execute_result",
          "data": {
            "text/html": [
              "<div>\n",
              "<style scoped>\n",
              "    .dataframe tbody tr th:only-of-type {\n",
              "        vertical-align: middle;\n",
              "    }\n",
              "\n",
              "    .dataframe tbody tr th {\n",
              "        vertical-align: top;\n",
              "    }\n",
              "\n",
              "    .dataframe thead th {\n",
              "        text-align: right;\n",
              "    }\n",
              "</style>\n",
              "<table border=\"1\" class=\"dataframe\">\n",
              "  <thead>\n",
              "    <tr style=\"text-align: right;\">\n",
              "      <th></th>\n",
              "      <th>customer_id</th>\n",
              "      <th>orders</th>\n",
              "      <th>country</th>\n",
              "      <th>amount_spent</th>\n",
              "      <th>purchase_avg</th>\n",
              "    </tr>\n",
              "  </thead>\n",
              "  <tbody>\n",
              "    <tr>\n",
              "      <th>0</th>\n",
              "      <td>12748</td>\n",
              "      <td>203</td>\n",
              "      <td>United Kingdom</td>\n",
              "      <td>29816.70</td>\n",
              "      <td>146.88</td>\n",
              "    </tr>\n",
              "    <tr>\n",
              "      <th>1</th>\n",
              "      <td>14911</td>\n",
              "      <td>192</td>\n",
              "      <td>EIRE</td>\n",
              "      <td>121172.12</td>\n",
              "      <td>631.10</td>\n",
              "    </tr>\n",
              "    <tr>\n",
              "      <th>2</th>\n",
              "      <td>17841</td>\n",
              "      <td>124</td>\n",
              "      <td>United Kingdom</td>\n",
              "      <td>37901.76</td>\n",
              "      <td>305.66</td>\n",
              "    </tr>\n",
              "    <tr>\n",
              "      <th>3</th>\n",
              "      <td>14606</td>\n",
              "      <td>91</td>\n",
              "      <td>United Kingdom</td>\n",
              "      <td>11196.76</td>\n",
              "      <td>123.04</td>\n",
              "    </tr>\n",
              "    <tr>\n",
              "      <th>4</th>\n",
              "      <td>15311</td>\n",
              "      <td>90</td>\n",
              "      <td>United Kingdom</td>\n",
              "      <td>58908.04</td>\n",
              "      <td>654.53</td>\n",
              "    </tr>\n",
              "  </tbody>\n",
              "</table>\n",
              "</div>"
            ],
            "text/plain": [
              "   customer_id  orders         country  amount_spent  purchase_avg\n",
              "0        12748     203  United Kingdom      29816.70        146.88\n",
              "1        14911     192            EIRE     121172.12        631.10\n",
              "2        17841     124  United Kingdom      37901.76        305.66\n",
              "3        14606      91  United Kingdom      11196.76        123.04\n",
              "4        15311      90  United Kingdom      58908.04        654.53"
            ]
          },
          "metadata": {
            "tags": []
          },
          "execution_count": 225
        }
      ]
    },
    {
      "cell_type": "markdown",
      "metadata": {
        "id": "tz_RoTZ1JN49"
      },
      "source": [
        "Visualizziamo il numero dei loro acquisti, in ordine decrescente."
      ]
    },
    {
      "cell_type": "code",
      "metadata": {
        "id": "tQ9UYP8hQaz5",
        "outputId": "937e8d55-5e21-4786-d960-b006c350df03",
        "colab": {
          "base_uri": "https://localhost:8080/",
          "height": 441
        }
      },
      "source": [
        "df_customer_plt = df_customer_plt[:20].sort_values(by='orders')\n",
        "plt.subplots(figsize=(8,6))\n",
        "plt.barh(df_customer_plt['customer_id'].astype('str'), df_customer_plt['orders'], color='g')\n",
        "plt.xlabel('Ordini')\n",
        "plt.ylabel('ID Cliente')\n",
        "plt.title('Numero di ordini per cliente', fontsize=18, pad=20)\n",
        "plt.tight_layout()\n",
        "plt.show()"
      ],
      "execution_count": null,
      "outputs": [
        {
          "output_type": "display_data",
          "data": {
            "image/png": "[encoded data removed]",
            "text/plain": [
              "<Figure size 576x432 with 1 Axes>"
            ]
          },
          "metadata": {
            "tags": [],
            "needs_background": "light"
          }
        }
      ]
    },
    {
      "cell_type": "markdown",
      "metadata": {
        "id": "Ads2oE_pQ1tY"
      },
      "source": [
        "Calcoliamo il numero medio di acquisti per cliente."
      ]
    },
    {
      "cell_type": "code",
      "metadata": {
        "id": "8kA3_lvQQ8r2",
        "outputId": "2bd678ca-8679-4396-c90c-a47b3007efaf",
        "colab": {
          "base_uri": "https://localhost:8080/",
          "height": 34
        }
      },
      "source": [
        "int(df_customer['orders'].mean())"
      ],
      "execution_count": null,
      "outputs": [
        {
          "output_type": "execute_result",
          "data": {
            "text/plain": [
              "4"
            ]
          },
          "metadata": {
            "tags": []
          },
          "execution_count": 55
        }
      ]
    },
    {
      "cell_type": "markdown",
      "metadata": {
        "id": "UUW4Gl6GYQ_F"
      },
      "source": [
        "Calcoliamo il valore del carrello medio."
      ]
    },
    {
      "cell_type": "code",
      "metadata": {
        "id": "iwHYDIFhYSYt",
        "outputId": "d01ac863-3c4b-418d-a2b0-f481f788d0d4",
        "colab": {
          "base_uri": "https://localhost:8080/",
          "height": 34
        }
      },
      "source": [
        "(df_customer['amount_spent'].sum() / df_customer['orders'].sum()).round(2)"
      ],
      "execution_count": null,
      "outputs": [
        {
          "output_type": "execute_result",
          "data": {
            "text/plain": [
              "452.66"
            ]
          },
          "metadata": {
            "tags": []
          },
          "execution_count": 56
        }
      ]
    },
    {
      "cell_type": "markdown",
      "metadata": {
        "id": "v1LgI_VXJe8q"
      },
      "source": [
        "Visualizziamo la distribuzione del valore dei carrelli dei clienti."
      ]
    },
    {
      "cell_type": "code",
      "metadata": {
        "id": "jBW9vBq4Zr_U",
        "outputId": "7f11d42f-725d-4b5f-cdee-6f176897a4ac",
        "colab": {
          "base_uri": "https://localhost:8080/",
          "height": 297
        }
      },
      "source": [
        "plt.subplots(figsize=(12,4))\n",
        "plt.hist(df_customer[df_customer['purchase_avg'] < 2000]['purchase_avg'], \n",
        "         bins=59, color='orange', edgecolor='white')\n",
        "plt.xlabel('Carrello medio')\n",
        "plt.title('Distribuzione carrello medio', fontsize=18, pad=20)\n",
        "plt.tight_layout()\n",
        "plt.show()"
      ],
      "execution_count": null,
      "outputs": [
        {
          "output_type": "display_data",
          "data": {
            "image/png": "[encoded data removed]",
            "text/plain": [
              "<Figure size 864x288 with 1 Axes>"
            ]
          },
          "metadata": {
            "tags": [],
            "needs_background": "light"
          }
        }
      ]
    },
    {
      "cell_type": "markdown",
      "metadata": {
        "id": "2GRNOME9SQra"
      },
      "source": [
        "Individuiamo i clienti con spesa maggiore."
      ]
    },
    {
      "cell_type": "code",
      "metadata": {
        "id": "1AqRDyEaSURZ",
        "outputId": "f9be66f1-2309-492d-8e86-f8ea913b9aea",
        "colab": {
          "base_uri": "https://localhost:8080/",
          "height": 195
        }
      },
      "source": [
        "df_customer.sort_values(by='amount_spent', ascending=False).reset_index(drop=True).head()"
      ],
      "execution_count": null,
      "outputs": [
        {
          "output_type": "execute_result",
          "data": {
            "text/html": [
              "<div>\n",
              "<style scoped>\n",
              "    .dataframe tbody tr th:only-of-type {\n",
              "        vertical-align: middle;\n",
              "    }\n",
              "\n",
              "    .dataframe tbody tr th {\n",
              "        vertical-align: top;\n",
              "    }\n",
              "\n",
              "    .dataframe thead th {\n",
              "        text-align: right;\n",
              "    }\n",
              "</style>\n",
              "<table border=\"1\" class=\"dataframe\">\n",
              "  <thead>\n",
              "    <tr style=\"text-align: right;\">\n",
              "      <th></th>\n",
              "      <th>customer_id</th>\n",
              "      <th>orders</th>\n",
              "      <th>country</th>\n",
              "      <th>amount_spent</th>\n",
              "      <th>purchase_avg</th>\n",
              "    </tr>\n",
              "  </thead>\n",
              "  <tbody>\n",
              "    <tr>\n",
              "      <th>0</th>\n",
              "      <td>14646</td>\n",
              "      <td>71</td>\n",
              "      <td>Netherlands</td>\n",
              "      <td>277460.42</td>\n",
              "      <td>3907.89</td>\n",
              "    </tr>\n",
              "    <tr>\n",
              "      <th>1</th>\n",
              "      <td>18102</td>\n",
              "      <td>55</td>\n",
              "      <td>United Kingdom</td>\n",
              "      <td>259657.30</td>\n",
              "      <td>4721.04</td>\n",
              "    </tr>\n",
              "    <tr>\n",
              "      <th>2</th>\n",
              "      <td>17450</td>\n",
              "      <td>45</td>\n",
              "      <td>United Kingdom</td>\n",
              "      <td>189607.53</td>\n",
              "      <td>4213.50</td>\n",
              "    </tr>\n",
              "    <tr>\n",
              "      <th>3</th>\n",
              "      <td>12415</td>\n",
              "      <td>18</td>\n",
              "      <td>Australia</td>\n",
              "      <td>123745.68</td>\n",
              "      <td>6874.76</td>\n",
              "    </tr>\n",
              "    <tr>\n",
              "      <th>4</th>\n",
              "      <td>14911</td>\n",
              "      <td>192</td>\n",
              "      <td>EIRE</td>\n",
              "      <td>121172.12</td>\n",
              "      <td>631.10</td>\n",
              "    </tr>\n",
              "  </tbody>\n",
              "</table>\n",
              "</div>"
            ],
            "text/plain": [
              "   customer_id  orders         country  amount_spent  purchase_avg\n",
              "0        14646      71     Netherlands     277460.42       3907.89\n",
              "1        18102      55  United Kingdom     259657.30       4721.04\n",
              "2        17450      45  United Kingdom     189607.53       4213.50\n",
              "3        12415      18       Australia     123745.68       6874.76\n",
              "4        14911     192            EIRE     121172.12        631.10"
            ]
          },
          "metadata": {
            "tags": []
          },
          "execution_count": 58
        }
      ]
    },
    {
      "cell_type": "markdown",
      "metadata": {
        "id": "FsyQ6p_ZaVhL"
      },
      "source": [
        "Calcoliamo il LTV medio tra tutti i clienti."
      ]
    },
    {
      "cell_type": "code",
      "metadata": {
        "id": "U5kzg2FYaWxY",
        "outputId": "31bed8d5-ef75-42f5-9e10-8dd640f8c1d0",
        "colab": {
          "base_uri": "https://localhost:8080/",
          "height": 34
        }
      },
      "source": [
        "round(df_customer['amount_spent'].mean(), 2)"
      ],
      "execution_count": null,
      "outputs": [
        {
          "output_type": "execute_result",
          "data": {
            "text/plain": [
              "1894.51"
            ]
          },
          "metadata": {
            "tags": []
          },
          "execution_count": 59
        }
      ]
    },
    {
      "cell_type": "markdown",
      "metadata": {
        "id": "rB-CMQ9lE1wJ"
      },
      "source": [
        "Calcoliamo il LTV in base alla nazionalità del cliente. Consideriamo solo le nazioni con più di 10 clienti."
      ]
    },
    {
      "cell_type": "code",
      "metadata": {
        "id": "G4h08TVnEoqk",
        "outputId": "56f3b22e-d5e8-4fcd-8410-2fba6bcd84fd",
        "colab": {
          "base_uri": "https://localhost:8080/",
          "height": 343
        }
      },
      "source": [
        "df1 = df_customer.groupby('country', as_index=False)['amount_spent'].sum().sort_values(by='amount_spent', ascending=False)\n",
        "df1['amount_spent'] = round(df1['amount_spent'], 2)\n",
        "\n",
        "df2 = df_customer.groupby('country', as_index=False)['customer_id'].count().sort_values(by='customer_id')\n",
        "df2.rename(columns={'customer_id':'clients'}, inplace=True)\n",
        "\n",
        "df1 = df1.merge(df2, on='country')\n",
        "df1 = df1[df1['clients'] > 10]\n",
        "df1['ltv'] = round(df1['amount_spent'] / df1['clients'], 2)\n",
        "df1 = df1[['country', 'ltv', 'amount_spent', 'clients']]\n",
        "\n",
        "df1.sort_values(by='ltv', ascending=False).reset_index(drop=True)"
      ],
      "execution_count": null,
      "outputs": [
        {
          "output_type": "execute_result",
          "data": {
            "text/html": [
              "<div>\n",
              "<style scoped>\n",
              "    .dataframe tbody tr th:only-of-type {\n",
              "        vertical-align: middle;\n",
              "    }\n",
              "\n",
              "    .dataframe tbody tr th {\n",
              "        vertical-align: top;\n",
              "    }\n",
              "\n",
              "    .dataframe thead th {\n",
              "        text-align: right;\n",
              "    }\n",
              "</style>\n",
              "<table border=\"1\" class=\"dataframe\">\n",
              "  <thead>\n",
              "    <tr style=\"text-align: right;\">\n",
              "      <th></th>\n",
              "      <th>country</th>\n",
              "      <th>ltv</th>\n",
              "      <th>amount_spent</th>\n",
              "      <th>clients</th>\n",
              "    </tr>\n",
              "  </thead>\n",
              "  <tbody>\n",
              "    <tr>\n",
              "      <th>0</th>\n",
              "      <td>Switzerland</td>\n",
              "      <td>2469.49</td>\n",
              "      <td>51859.30</td>\n",
              "      <td>21</td>\n",
              "    </tr>\n",
              "    <tr>\n",
              "      <th>1</th>\n",
              "      <td>Germany</td>\n",
              "      <td>2160.53</td>\n",
              "      <td>203089.88</td>\n",
              "      <td>94</td>\n",
              "    </tr>\n",
              "    <tr>\n",
              "      <th>2</th>\n",
              "      <td>France</td>\n",
              "      <td>2078.68</td>\n",
              "      <td>180845.39</td>\n",
              "      <td>87</td>\n",
              "    </tr>\n",
              "    <tr>\n",
              "      <th>3</th>\n",
              "      <td>Spain</td>\n",
              "      <td>1790.66</td>\n",
              "      <td>51929.22</td>\n",
              "      <td>29</td>\n",
              "    </tr>\n",
              "    <tr>\n",
              "      <th>4</th>\n",
              "      <td>United Kingdom</td>\n",
              "      <td>1726.45</td>\n",
              "      <td>6743498.05</td>\n",
              "      <td>3906</td>\n",
              "    </tr>\n",
              "    <tr>\n",
              "      <th>5</th>\n",
              "      <td>Finland</td>\n",
              "      <td>1528.74</td>\n",
              "      <td>18344.88</td>\n",
              "      <td>12</td>\n",
              "    </tr>\n",
              "    <tr>\n",
              "      <th>6</th>\n",
              "      <td>Belgium</td>\n",
              "      <td>1472.55</td>\n",
              "      <td>36813.69</td>\n",
              "      <td>25</td>\n",
              "    </tr>\n",
              "    <tr>\n",
              "      <th>7</th>\n",
              "      <td>Portugal</td>\n",
              "      <td>1396.00</td>\n",
              "      <td>26524.05</td>\n",
              "      <td>19</td>\n",
              "    </tr>\n",
              "    <tr>\n",
              "      <th>8</th>\n",
              "      <td>Italy</td>\n",
              "      <td>1104.08</td>\n",
              "      <td>15457.19</td>\n",
              "      <td>14</td>\n",
              "    </tr>\n",
              "    <tr>\n",
              "      <th>9</th>\n",
              "      <td>Austria</td>\n",
              "      <td>794.79</td>\n",
              "      <td>8742.68</td>\n",
              "      <td>11</td>\n",
              "    </tr>\n",
              "  </tbody>\n",
              "</table>\n",
              "</div>"
            ],
            "text/plain": [
              "          country      ltv  amount_spent  clients\n",
              "0     Switzerland  2469.49      51859.30       21\n",
              "1         Germany  2160.53     203089.88       94\n",
              "2          France  2078.68     180845.39       87\n",
              "3           Spain  1790.66      51929.22       29\n",
              "4  United Kingdom  1726.45    6743498.05     3906\n",
              "5         Finland  1528.74      18344.88       12\n",
              "6         Belgium  1472.55      36813.69       25\n",
              "7        Portugal  1396.00      26524.05       19\n",
              "8           Italy  1104.08      15457.19       14\n",
              "9         Austria   794.79       8742.68       11"
            ]
          },
          "metadata": {
            "tags": []
          },
          "execution_count": 89
        }
      ]
    },
    {
      "cell_type": "markdown",
      "metadata": {
        "id": "JEvkHZk7cohX"
      },
      "source": [
        "Come cresce il LTV all'aumentare degli acquisti?"
      ]
    },
    {
      "cell_type": "code",
      "metadata": {
        "id": "CnDnQIwobD34"
      },
      "source": [
        "ltv_data = []\n",
        "for ord_ in range(41):\n",
        "  ltv = round(df_customer[df_customer['orders'] > ord_]['amount_spent'].mean(), 2)\n",
        "  ltv_data.append((ord_, ltv))\n",
        "ltv_data = pd.DataFrame(ltv_data, columns=['order_num', 'ltv'])"
      ],
      "execution_count": null,
      "outputs": []
    },
    {
      "cell_type": "code",
      "metadata": {
        "id": "PFgwclcrb7_K",
        "outputId": "2481632d-4f09-4e59-9b93-d3c3130b4bf5",
        "colab": {
          "base_uri": "https://localhost:8080/",
          "height": 297
        }
      },
      "source": [
        "plt.subplots(figsize=(12,4))\n",
        "plt.plot(ltv_data['order_num'], ltv_data['ltv'])\n",
        "plt.xlabel('Ordini')\n",
        "plt.ylabel('LTV')\n",
        "plt.title('LTV per numero di ordini', fontsize=18, pad=20)\n",
        "plt.tight_layout()\n",
        "plt.show()"
      ],
      "execution_count": null,
      "outputs": [
        {
          "output_type": "display_data",
          "data": {
            "image/png": "[encoded data removed]",
            "text/plain": [
              "<Figure size 864x288 with 1 Axes>"
            ]
          },
          "metadata": {
            "tags": [],
            "needs_background": "light"
          }
        }
      ]
    },
    {
      "cell_type": "markdown",
      "metadata": {
        "id": "vbQSeSHER-au"
      },
      "source": [
        "Visualizziamo quanti ordini vengono effettuati per mese."
      ]
    },
    {
      "cell_type": "code",
      "metadata": {
        "id": "rh8-wps5CLjO"
      },
      "source": [
        "df_month = df.groupby(['month', 'invoice_num'], as_index=False)['quantity'].count()\n",
        "df_month.rename(columns={'quantity':'orders'}, inplace=True)\n",
        "df_month = df_month.groupby(['month'], as_index=False)['orders'].sum()"
      ],
      "execution_count": null,
      "outputs": []
    },
    {
      "cell_type": "code",
      "metadata": {
        "id": "PmQq1ndCeE4g",
        "outputId": "754c9d10-6f4c-4fb5-9bf9-428f6aa742d2",
        "colab": {
          "base_uri": "https://localhost:8080/",
          "height": 297
        }
      },
      "source": [
        "fig, ax = plt.subplots(figsize=(10,4))\n",
        "plt.bar(df_month['month'], df_month['orders'], color=\"green\")\n",
        "ax.set_xticks(range(1,13))\n",
        "ax.set_xticklabels(range(1, 13), rotation='horizontal')\n",
        "plt.xlabel('Mese')\n",
        "plt.ylabel('Ordini')\n",
        "plt.title('Ordini per mese', fontsize=18, pad=20)\n",
        "plt.tight_layout()\n",
        "plt.show()"
      ],
      "execution_count": null,
      "outputs": [
        {
          "output_type": "display_data",
          "data": {
            "image/png": "[encoded data removed]",
            "text/plain": [
              "<Figure size 720x288 with 1 Axes>"
            ]
          },
          "metadata": {
            "tags": [],
            "needs_background": "light"
          }
        }
      ]
    },
    {
      "cell_type": "markdown",
      "metadata": {
        "id": "zLBr2HAATYNm"
      },
      "source": [
        "Visualizziamo quanti ordini vengono effettuati a seconda dell'orario locale."
      ]
    },
    {
      "cell_type": "code",
      "metadata": {
        "id": "34cR7_vGEuEV"
      },
      "source": [
        "df_hour = df.groupby(['local_hour', 'invoice_num'], as_index=False)['quantity'].count()\n",
        "df_hour.rename(columns={'quantity':'orders'}, inplace=True)\n",
        "df_hour = df_hour.groupby(['local_hour'], as_index=False)['orders'].sum()"
      ],
      "execution_count": null,
      "outputs": []
    },
    {
      "cell_type": "code",
      "metadata": {
        "id": "BffvGZ7pEuQt",
        "outputId": "1adf68d7-a0b1-4e10-c0dd-01446dc0dcc8",
        "colab": {
          "base_uri": "https://localhost:8080/",
          "height": 297
        }
      },
      "source": [
        "df_hour_plt = df_hour[(df_hour['local_hour'] > 6) & (df_hour['local_hour'] < 22)]\n",
        "fig, ax = plt.subplots(figsize=(12,4))\n",
        "plt.bar(df_hour_plt['local_hour'], df_hour_plt['orders'], color='dodgerblue')\n",
        "plt.xlabel('Ora locale')\n",
        "ax.set_xticks(range(6,22))\n",
        "ax.set_xticklabels(range(6,22), rotation='horizontal')\n",
        "plt.ylabel('Quantità di ordini')\n",
        "plt.title('Ordini per orario', fontsize=18, pad=20)\n",
        "plt.tight_layout()\n",
        "plt.show()"
      ],
      "execution_count": null,
      "outputs": [
        {
          "output_type": "display_data",
          "data": {
            "image/png": "[encoded data removed]",
            "text/plain": [
              "<Figure size 864x288 with 1 Axes>"
            ]
          },
          "metadata": {
            "tags": [],
            "needs_background": "light"
          }
        }
      ]
    }
  ]
}
